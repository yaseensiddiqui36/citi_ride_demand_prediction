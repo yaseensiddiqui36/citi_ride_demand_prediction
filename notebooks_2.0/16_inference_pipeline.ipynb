{
 "cells": [
  {
   "cell_type": "code",
   "execution_count": 19,
   "id": "cc080774-f41a-4503-a064-c0ac819eeb99",
   "metadata": {},
   "outputs": [],
   "source": [
    "# Reg fetch new batch of features and compute predictions and save to feature store\n",
    "# "
   ]
  },
  {
   "cell_type": "code",
   "execution_count": 20,
   "id": "4bd038bf-8550-420b-9ec2-308198fca80f",
   "metadata": {},
   "outputs": [
    {
     "name": "stdout",
     "output_type": "stream",
     "text": [
      "The autoreload extension is already loaded. To reload it, use:\n",
      "  %reload_ext autoreload\n"
     ]
    }
   ],
   "source": [
    "%load_ext autoreload\n",
    "%autoreload 2\n",
    "\n",
    "import sys\n",
    "import os\n",
    "from datetime import timedelta\n",
    "import pandas as pd\n",
    "\n",
    "# Add src directory to path\n",
    "sys.path.append(os.path.abspath(os.path.join(os.getcwd(), \"..\")))\n",
    "\n",
    "import src.config as config\n",
    "from src.inference import get_feature_store\n"
   ]
  },
  {
   "cell_type": "code",
   "execution_count": 21,
   "id": "46b8ae0d-58dd-4772-8931-25ff5fccb749",
   "metadata": {},
   "outputs": [
    {
     "name": "stdout",
     "output_type": "stream",
     "text": [
      "⏳ Fetching data from 2025-01-31 00:00:00+00:00 to 2025-04-30 23:00:00+00:00\n"
     ]
    }
   ],
   "source": [
    "# Use a fixed timestamp since April data is unavailable\n",
    "current_date = pd.Timestamp(\"2025-05-01 00:00:00\", tz=\"UTC\")\n",
    "fetch_data_to = current_date - timedelta(hours=1)\n",
    "fetch_data_from = current_date - timedelta(days=90)\n",
    "\n",
    "print(f\"⏳ Fetching data from {fetch_data_from} to {fetch_data_to}\")\n"
   ]
  },
  {
   "cell_type": "code",
   "execution_count": 23,
   "id": "26612685-265e-4415-a149-5751be8f994d",
   "metadata": {},
   "outputs": [
    {
     "name": "stdout",
     "output_type": "stream",
     "text": [
      "2025-05-10 13:28:04,212 INFO: Closing external client and cleaning up certificates.\n",
      "Connection closed.\n",
      "2025-05-10 13:28:04,220 INFO: Initializing external client\n",
      "2025-05-10 13:28:04,220 INFO: Base URL: https://c.app.hopsworks.ai:443\n"
     ]
    },
    {
     "name": "stderr",
     "output_type": "stream",
     "text": [
      "\n",
      "\n",
      "UserWarning: The installed hopsworks client version 4.1.8 may not be compatible with the connected Hopsworks backend version 4.2.0. \n",
      "To ensure compatibility please install the latest bug fix release matching the minor version of your backend (4.2) by running 'pip install hopsworks==4.2.*'\n"
     ]
    },
    {
     "name": "stdout",
     "output_type": "stream",
     "text": [
      "2025-05-10 13:28:05,399 INFO: Python Engine initialized.\n",
      "\n",
      "Logged in to project, explore it here https://c.app.hopsworks.ai:443/p/1215665\n",
      "Finished: Reading data from Hopsworks, using Hopsworks Feature Query Service (0.60s) \n"
     ]
    }
   ],
   "source": [
    "feature_store = get_feature_store()\n",
    "feature_view = feature_store.get_feature_view(\n",
    "    name=config.FEATURE_VIEW_NAME,\n",
    "    version=config.FEATURE_VIEW_VERSION\n",
    ")\n",
    "\n",
    "# Retrieve data with some buffer days\n",
    "ts_data = feature_view.get_batch_data(\n",
    "    start_time=(fetch_data_from - timedelta(days=1)),\n",
    "    end_time=(fetch_data_to + timedelta(days=1)),\n",
    ")\n",
    "\n",
    "# Keep only records within desired range\n",
    "ts_data = ts_data[ts_data.pickup_hour.between(fetch_data_from, fetch_data_to)]\n",
    "ts_data = ts_data.sort_values([\"pickup_location_id\", \"pickup_hour\"]).reset_index(drop=True)\n",
    "ts_data[\"pickup_hour\"] = ts_data[\"pickup_hour\"].dt.tz_localize(None)\n"
   ]
  },
  {
   "cell_type": "code",
   "execution_count": 24,
   "id": "c2d591ac",
   "metadata": {},
   "outputs": [
    {
     "data": {
      "text/html": [
       "<div>\n",
       "<style scoped>\n",
       "    .dataframe tbody tr th:only-of-type {\n",
       "        vertical-align: middle;\n",
       "    }\n",
       "\n",
       "    .dataframe tbody tr th {\n",
       "        vertical-align: top;\n",
       "    }\n",
       "\n",
       "    .dataframe thead th {\n",
       "        text-align: right;\n",
       "    }\n",
       "</style>\n",
       "<table border=\"1\" class=\"dataframe\">\n",
       "  <thead>\n",
       "    <tr style=\"text-align: right;\">\n",
       "      <th></th>\n",
       "      <th>pickup_hour</th>\n",
       "      <th>pickup_location_id</th>\n",
       "      <th>rides</th>\n",
       "    </tr>\n",
       "  </thead>\n",
       "  <tbody>\n",
       "    <tr>\n",
       "      <th>0</th>\n",
       "      <td>2025-01-31 00:00:00</td>\n",
       "      <td>HB101</td>\n",
       "      <td>0</td>\n",
       "    </tr>\n",
       "    <tr>\n",
       "      <th>1</th>\n",
       "      <td>2025-01-31 01:00:00</td>\n",
       "      <td>HB101</td>\n",
       "      <td>0</td>\n",
       "    </tr>\n",
       "    <tr>\n",
       "      <th>2</th>\n",
       "      <td>2025-01-31 02:00:00</td>\n",
       "      <td>HB101</td>\n",
       "      <td>0</td>\n",
       "    </tr>\n",
       "    <tr>\n",
       "      <th>3</th>\n",
       "      <td>2025-01-31 03:00:00</td>\n",
       "      <td>HB101</td>\n",
       "      <td>0</td>\n",
       "    </tr>\n",
       "    <tr>\n",
       "      <th>4</th>\n",
       "      <td>2025-01-31 04:00:00</td>\n",
       "      <td>HB101</td>\n",
       "      <td>0</td>\n",
       "    </tr>\n",
       "    <tr>\n",
       "      <th>...</th>\n",
       "      <td>...</td>\n",
       "      <td>...</td>\n",
       "      <td>...</td>\n",
       "    </tr>\n",
       "    <tr>\n",
       "      <th>11491</th>\n",
       "      <td>2025-04-30 19:00:00</td>\n",
       "      <td>JC115</td>\n",
       "      <td>4</td>\n",
       "    </tr>\n",
       "    <tr>\n",
       "      <th>11492</th>\n",
       "      <td>2025-04-30 20:00:00</td>\n",
       "      <td>JC115</td>\n",
       "      <td>7</td>\n",
       "    </tr>\n",
       "    <tr>\n",
       "      <th>11493</th>\n",
       "      <td>2025-04-30 21:00:00</td>\n",
       "      <td>JC115</td>\n",
       "      <td>1</td>\n",
       "    </tr>\n",
       "    <tr>\n",
       "      <th>11494</th>\n",
       "      <td>2025-04-30 22:00:00</td>\n",
       "      <td>JC115</td>\n",
       "      <td>0</td>\n",
       "    </tr>\n",
       "    <tr>\n",
       "      <th>11495</th>\n",
       "      <td>2025-04-30 23:00:00</td>\n",
       "      <td>JC115</td>\n",
       "      <td>0</td>\n",
       "    </tr>\n",
       "  </tbody>\n",
       "</table>\n",
       "<p>11496 rows × 3 columns</p>\n",
       "</div>"
      ],
      "text/plain": [
       "              pickup_hour pickup_location_id  rides\n",
       "0     2025-01-31 00:00:00              HB101      0\n",
       "1     2025-01-31 01:00:00              HB101      0\n",
       "2     2025-01-31 02:00:00              HB101      0\n",
       "3     2025-01-31 03:00:00              HB101      0\n",
       "4     2025-01-31 04:00:00              HB101      0\n",
       "...                   ...                ...    ...\n",
       "11491 2025-04-30 19:00:00              JC115      4\n",
       "11492 2025-04-30 20:00:00              JC115      7\n",
       "11493 2025-04-30 21:00:00              JC115      1\n",
       "11494 2025-04-30 22:00:00              JC115      0\n",
       "11495 2025-04-30 23:00:00              JC115      0\n",
       "\n",
       "[11496 rows x 3 columns]"
      ]
     },
     "execution_count": 24,
     "metadata": {},
     "output_type": "execute_result"
    }
   ],
   "source": [
    "ts_data"
   ]
  },
  {
   "cell_type": "code",
   "execution_count": 25,
   "id": "22253dce-140a-4296-a48b-35c6c7655b90",
   "metadata": {},
   "outputs": [],
   "source": [
    "from src.data_utils import transform_ts_data_info_features\n",
    "\n",
    "features = transform_ts_data_info_features(ts_data, window_size=24*28, step_size=23)\n"
   ]
  },
  {
   "cell_type": "code",
   "execution_count": 26,
   "id": "b868f801-03a3-4d51-8e24-88231e664f29",
   "metadata": {},
   "outputs": [
    {
     "name": "stdout",
     "output_type": "stream",
     "text": [
      "2025-05-10 13:28:49,981 INFO: Closing external client and cleaning up certificates.\n",
      "Connection closed.\n",
      "2025-05-10 13:28:49,996 INFO: Initializing external client\n",
      "2025-05-10 13:28:49,997 INFO: Base URL: https://c.app.hopsworks.ai:443\n"
     ]
    },
    {
     "name": "stderr",
     "output_type": "stream",
     "text": [
      "\n",
      "\n",
      "UserWarning: The installed hopsworks client version 4.1.8 may not be compatible with the connected Hopsworks backend version 4.2.0. \n",
      "To ensure compatibility please install the latest bug fix release matching the minor version of your backend (4.2) by running 'pip install hopsworks==4.2.*'\n"
     ]
    },
    {
     "name": "stdout",
     "output_type": "stream",
     "text": [
      "2025-05-10 13:28:51,178 INFO: Python Engine initialized.\n",
      "\n",
      "Logged in to project, explore it here https://c.app.hopsworks.ai:443/p/1215665\n",
      "[LightGBM] [Warning] feature_fraction is set=0.6, colsample_bytree=0.6 will be ignored. Current value: feature_fraction=0.6\n",
      "[LightGBM] [Warning] bagging_fraction is set=0.7, subsample=1.0 will be ignored. Current value: bagging_fraction=0.7\n",
      "[LightGBM] [Warning] bagging_freq is set=1, subsample_freq=0 will be ignored. Current value: bagging_freq=1\n"
     ]
    },
    {
     "data": {
      "text/html": [
       "<div>\n",
       "<style scoped>\n",
       "    .dataframe tbody tr th:only-of-type {\n",
       "        vertical-align: middle;\n",
       "    }\n",
       "\n",
       "    .dataframe tbody tr th {\n",
       "        vertical-align: top;\n",
       "    }\n",
       "\n",
       "    .dataframe thead th {\n",
       "        text-align: right;\n",
       "    }\n",
       "</style>\n",
       "<table border=\"1\" class=\"dataframe\">\n",
       "  <thead>\n",
       "    <tr style=\"text-align: right;\">\n",
       "      <th></th>\n",
       "      <th>pickup_location_id</th>\n",
       "      <th>predicted_demand</th>\n",
       "      <th>pickup_hour</th>\n",
       "    </tr>\n",
       "  </thead>\n",
       "  <tbody>\n",
       "    <tr>\n",
       "      <th>0</th>\n",
       "      <td>HB101</td>\n",
       "      <td>0</td>\n",
       "      <td>2025-02-28 00:00:00</td>\n",
       "    </tr>\n",
       "    <tr>\n",
       "      <th>1</th>\n",
       "      <td>HB101</td>\n",
       "      <td>5</td>\n",
       "      <td>2025-02-28 23:00:00</td>\n",
       "    </tr>\n",
       "    <tr>\n",
       "      <th>2</th>\n",
       "      <td>HB101</td>\n",
       "      <td>2</td>\n",
       "      <td>2025-03-01 22:00:00</td>\n",
       "    </tr>\n",
       "    <tr>\n",
       "      <th>3</th>\n",
       "      <td>HB101</td>\n",
       "      <td>2</td>\n",
       "      <td>2025-03-02 21:00:00</td>\n",
       "    </tr>\n",
       "    <tr>\n",
       "      <th>4</th>\n",
       "      <td>HB101</td>\n",
       "      <td>1</td>\n",
       "      <td>2025-03-03 20:00:00</td>\n",
       "    </tr>\n",
       "    <tr>\n",
       "      <th>...</th>\n",
       "      <td>...</td>\n",
       "      <td>...</td>\n",
       "      <td>...</td>\n",
       "    </tr>\n",
       "    <tr>\n",
       "      <th>322</th>\n",
       "      <td>JC115</td>\n",
       "      <td>5</td>\n",
       "      <td>2025-04-26 12:00:00</td>\n",
       "    </tr>\n",
       "    <tr>\n",
       "      <th>323</th>\n",
       "      <td>JC115</td>\n",
       "      <td>4</td>\n",
       "      <td>2025-04-27 11:00:00</td>\n",
       "    </tr>\n",
       "    <tr>\n",
       "      <th>324</th>\n",
       "      <td>JC115</td>\n",
       "      <td>3</td>\n",
       "      <td>2025-04-28 10:00:00</td>\n",
       "    </tr>\n",
       "    <tr>\n",
       "      <th>325</th>\n",
       "      <td>JC115</td>\n",
       "      <td>3</td>\n",
       "      <td>2025-04-29 09:00:00</td>\n",
       "    </tr>\n",
       "    <tr>\n",
       "      <th>326</th>\n",
       "      <td>JC115</td>\n",
       "      <td>2</td>\n",
       "      <td>2025-04-30 08:00:00</td>\n",
       "    </tr>\n",
       "  </tbody>\n",
       "</table>\n",
       "<p>327 rows × 3 columns</p>\n",
       "</div>"
      ],
      "text/plain": [
       "    pickup_location_id  predicted_demand         pickup_hour\n",
       "0                HB101                 0 2025-02-28 00:00:00\n",
       "1                HB101                 5 2025-02-28 23:00:00\n",
       "2                HB101                 2 2025-03-01 22:00:00\n",
       "3                HB101                 2 2025-03-02 21:00:00\n",
       "4                HB101                 1 2025-03-03 20:00:00\n",
       "..                 ...               ...                 ...\n",
       "322              JC115                 5 2025-04-26 12:00:00\n",
       "323              JC115                 4 2025-04-27 11:00:00\n",
       "324              JC115                 3 2025-04-28 10:00:00\n",
       "325              JC115                 3 2025-04-29 09:00:00\n",
       "326              JC115                 2 2025-04-30 08:00:00\n",
       "\n",
       "[327 rows x 3 columns]"
      ]
     },
     "execution_count": 26,
     "metadata": {},
     "output_type": "execute_result"
    }
   ],
   "source": [
    "from src.inference import load_model_from_registry, get_model_predictions\n",
    "\n",
    "model = load_model_from_registry()\n",
    "predictions = get_model_predictions(model, features)\n",
    "\n",
    "# Add current prediction hour\n",
    "# ✅ Step 2: Add pickup_hour back from features\n",
    "predictions[\"pickup_hour\"] = features[\"pickup_hour\"].values\n",
    "predictions\n"
   ]
  },
  {
   "cell_type": "code",
   "execution_count": 27,
   "id": "f2b2e174",
   "metadata": {},
   "outputs": [
    {
     "name": "stdout",
     "output_type": "stream",
     "text": [
      "2025-05-10 13:29:22,380 INFO: Closing external client and cleaning up certificates.\n",
      "Connection closed.\n",
      "2025-05-10 13:29:22,387 INFO: Initializing external client\n",
      "2025-05-10 13:29:22,389 INFO: Base URL: https://c.app.hopsworks.ai:443\n"
     ]
    },
    {
     "name": "stderr",
     "output_type": "stream",
     "text": [
      "\n",
      "\n",
      "UserWarning: The installed hopsworks client version 4.1.8 may not be compatible with the connected Hopsworks backend version 4.2.0. \n",
      "To ensure compatibility please install the latest bug fix release matching the minor version of your backend (4.2) by running 'pip install hopsworks==4.2.*'\n"
     ]
    },
    {
     "name": "stdout",
     "output_type": "stream",
     "text": [
      "2025-05-10 13:29:23,561 INFO: Python Engine initialized.\n",
      "\n",
      "Logged in to project, explore it here https://c.app.hopsworks.ai:443/p/1215665\n"
     ]
    }
   ],
   "source": [
    "# Login and load feature store/view\n",
    "import hopsworks\n",
    "\n",
    "project = hopsworks.login(\n",
    "    project=config.HOPSWORKS_PROJECT_NAME,\n",
    "    api_key_value=config.HOPSWORKS_API_KEY\n",
    ")"
   ]
  },
  {
   "cell_type": "code",
   "execution_count": 28,
   "id": "751d63ab-8e98-4087-a3cf-d79bd1bd88e5",
   "metadata": {},
   "outputs": [
    {
     "name": "stdout",
     "output_type": "stream",
     "text": [
      "2025-05-10 13:30:00,012 INFO: Closing external client and cleaning up certificates.\n",
      "Connection closed.\n",
      "2025-05-10 13:30:00,026 INFO: Initializing external client\n",
      "2025-05-10 13:30:00,028 INFO: Base URL: https://c.app.hopsworks.ai:443\n"
     ]
    },
    {
     "name": "stderr",
     "output_type": "stream",
     "text": [
      "\n",
      "\n"
     ]
    },
    {
     "name": "stdout",
     "output_type": "stream",
     "text": [
      "2025-05-10 13:30:01,232 INFO: Python Engine initialized.\n",
      "\n",
      "Logged in to project, explore it here https://c.app.hopsworks.ai:443/p/1215665\n"
     ]
    },
    {
     "name": "stderr",
     "output_type": "stream",
     "text": [
      "Uploading Dataframe: 100.00% |██████████| Rows 327/327 | Elapsed Time: 00:01 | Remaining Time: 00:00\n"
     ]
    },
    {
     "name": "stdout",
     "output_type": "stream",
     "text": [
      "Launching job: citi_bike_model_prediction_1_offline_fg_materialization\n",
      "Job started successfully, you can follow the progress at \n",
      "https://c.app.hopsworks.ai:443/p/1215665/jobs/named/citi_bike_model_prediction_1_offline_fg_materialization/executions\n"
     ]
    },
    {
     "data": {
      "text/plain": [
       "(Job('citi_bike_model_prediction_1_offline_fg_materialization', 'SPARK'), None)"
      ]
     },
     "execution_count": 28,
     "metadata": {},
     "output_type": "execute_result"
    }
   ],
   "source": [
    "# fs = project.get_feature_store()\n",
    "# fg = fs.get_feature_group(\n",
    "#     name=config.FEATURE_GROUP_NAME,\n",
    "#     version=config.FEATURE_GROUP_VERSION\n",
    "# )\n",
    "\n",
    "# feature_view = fs.get_feature_view(\n",
    "#     name=config.FEATURE_VIEW_NAME,\n",
    "#     version=config.FEATURE_VIEW_VERSION\n",
    "# )\n",
    "\n",
    "\n",
    "feature_group = get_feature_store().get_or_create_feature_group(\n",
    "    name=config.FEATURE_GROUP_MODEL_PREDICTION,\n",
    "    version=1,\n",
    "    description=\"Predictions from Citi Ride LGBM Model\",\n",
    "    primary_key=[\"pickup_location_id\", \"pickup_hour\"],\n",
    "    event_time=\"pickup_hour\",\n",
    ")\n",
    "\n",
    "# Ensure correct data types before insert\n",
    "predictions[\"predicted_demand\"] = predictions[\"predicted_demand\"].astype(\"float\")\n",
    "predictions[\"pickup_location_id\"] = predictions[\"pickup_location_id\"].astype(str)\n",
    "predictions[\"pickup_hour\"] = pd.to_datetime(predictions[\"pickup_hour\"])\n",
    "\n",
    "# Insert into Hopsworks feature group\n",
    "feature_group.insert(predictions, write_options={\"wait_for_job\": False})\n"
   ]
  },
  {
   "cell_type": "code",
   "execution_count": 29,
   "id": "8677ded2",
   "metadata": {},
   "outputs": [
    {
     "data": {
      "text/html": [
       "<div>\n",
       "<style scoped>\n",
       "    .dataframe tbody tr th:only-of-type {\n",
       "        vertical-align: middle;\n",
       "    }\n",
       "\n",
       "    .dataframe tbody tr th {\n",
       "        vertical-align: top;\n",
       "    }\n",
       "\n",
       "    .dataframe thead th {\n",
       "        text-align: right;\n",
       "    }\n",
       "</style>\n",
       "<table border=\"1\" class=\"dataframe\">\n",
       "  <thead>\n",
       "    <tr style=\"text-align: right;\">\n",
       "      <th></th>\n",
       "      <th>pickup_location_id</th>\n",
       "      <th>predicted_demand</th>\n",
       "      <th>pickup_hour</th>\n",
       "    </tr>\n",
       "  </thead>\n",
       "  <tbody>\n",
       "    <tr>\n",
       "      <th>0</th>\n",
       "      <td>HB101</td>\n",
       "      <td>0.0</td>\n",
       "      <td>2025-02-28 00:00:00</td>\n",
       "    </tr>\n",
       "    <tr>\n",
       "      <th>1</th>\n",
       "      <td>HB101</td>\n",
       "      <td>5.0</td>\n",
       "      <td>2025-02-28 23:00:00</td>\n",
       "    </tr>\n",
       "    <tr>\n",
       "      <th>2</th>\n",
       "      <td>HB101</td>\n",
       "      <td>2.0</td>\n",
       "      <td>2025-03-01 22:00:00</td>\n",
       "    </tr>\n",
       "    <tr>\n",
       "      <th>3</th>\n",
       "      <td>HB101</td>\n",
       "      <td>2.0</td>\n",
       "      <td>2025-03-02 21:00:00</td>\n",
       "    </tr>\n",
       "    <tr>\n",
       "      <th>4</th>\n",
       "      <td>HB101</td>\n",
       "      <td>1.0</td>\n",
       "      <td>2025-03-03 20:00:00</td>\n",
       "    </tr>\n",
       "    <tr>\n",
       "      <th>...</th>\n",
       "      <td>...</td>\n",
       "      <td>...</td>\n",
       "      <td>...</td>\n",
       "    </tr>\n",
       "    <tr>\n",
       "      <th>322</th>\n",
       "      <td>JC115</td>\n",
       "      <td>5.0</td>\n",
       "      <td>2025-04-26 12:00:00</td>\n",
       "    </tr>\n",
       "    <tr>\n",
       "      <th>323</th>\n",
       "      <td>JC115</td>\n",
       "      <td>4.0</td>\n",
       "      <td>2025-04-27 11:00:00</td>\n",
       "    </tr>\n",
       "    <tr>\n",
       "      <th>324</th>\n",
       "      <td>JC115</td>\n",
       "      <td>3.0</td>\n",
       "      <td>2025-04-28 10:00:00</td>\n",
       "    </tr>\n",
       "    <tr>\n",
       "      <th>325</th>\n",
       "      <td>JC115</td>\n",
       "      <td>3.0</td>\n",
       "      <td>2025-04-29 09:00:00</td>\n",
       "    </tr>\n",
       "    <tr>\n",
       "      <th>326</th>\n",
       "      <td>JC115</td>\n",
       "      <td>2.0</td>\n",
       "      <td>2025-04-30 08:00:00</td>\n",
       "    </tr>\n",
       "  </tbody>\n",
       "</table>\n",
       "<p>327 rows × 3 columns</p>\n",
       "</div>"
      ],
      "text/plain": [
       "    pickup_location_id  predicted_demand         pickup_hour\n",
       "0                HB101               0.0 2025-02-28 00:00:00\n",
       "1                HB101               5.0 2025-02-28 23:00:00\n",
       "2                HB101               2.0 2025-03-01 22:00:00\n",
       "3                HB101               2.0 2025-03-02 21:00:00\n",
       "4                HB101               1.0 2025-03-03 20:00:00\n",
       "..                 ...               ...                 ...\n",
       "322              JC115               5.0 2025-04-26 12:00:00\n",
       "323              JC115               4.0 2025-04-27 11:00:00\n",
       "324              JC115               3.0 2025-04-28 10:00:00\n",
       "325              JC115               3.0 2025-04-29 09:00:00\n",
       "326              JC115               2.0 2025-04-30 08:00:00\n",
       "\n",
       "[327 rows x 3 columns]"
      ]
     },
     "execution_count": 29,
     "metadata": {},
     "output_type": "execute_result"
    }
   ],
   "source": [
    "predictions"
   ]
  },
  {
   "cell_type": "code",
   "execution_count": null,
   "id": "33c16ffa",
   "metadata": {},
   "outputs": [],
   "source": []
  }
 ],
 "metadata": {
  "kernelspec": {
   "display_name": "venv",
   "language": "python",
   "name": "python3"
  },
  "language_info": {
   "codemirror_mode": {
    "name": "ipython",
    "version": 3
   },
   "file_extension": ".py",
   "mimetype": "text/x-python",
   "name": "python",
   "nbconvert_exporter": "python",
   "pygments_lexer": "ipython3",
   "version": "3.11.11"
  }
 },
 "nbformat": 4,
 "nbformat_minor": 5
}
