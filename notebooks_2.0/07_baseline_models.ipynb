{
 "cells": [
  {
   "cell_type": "code",
   "execution_count": 1,
   "id": "5e7fd51d-f4fc-4583-94ae-2bfd9388224c",
   "metadata": {},
   "outputs": [],
   "source": [
    "%load_ext autoreload\n",
    "%autoreload 2"
   ]
  },
  {
   "cell_type": "code",
   "execution_count": 2,
   "id": "ca4e773b-3fdb-4db2-a8b3-fcf09bd54f2f",
   "metadata": {},
   "outputs": [],
   "source": [
    "import sys\n",
    "import os\n",
    "\n",
    "# Add the parent directory to the Python path\n",
    "sys.path.append(os.path.abspath(os.path.join(os.getcwd(), \"..\")))"
   ]
  },
  {
   "cell_type": "code",
   "execution_count": 3,
   "id": "9b160f27-7330-42ef-abdf-a65053027038",
   "metadata": {},
   "outputs": [
    {
     "data": {
      "text/html": [
       "<div>\n",
       "<style scoped>\n",
       "    .dataframe tbody tr th:only-of-type {\n",
       "        vertical-align: middle;\n",
       "    }\n",
       "\n",
       "    .dataframe tbody tr th {\n",
       "        vertical-align: top;\n",
       "    }\n",
       "\n",
       "    .dataframe thead th {\n",
       "        text-align: right;\n",
       "    }\n",
       "</style>\n",
       "<table border=\"1\" class=\"dataframe\">\n",
       "  <thead>\n",
       "    <tr style=\"text-align: right;\">\n",
       "      <th></th>\n",
       "      <th>rides_t-672</th>\n",
       "      <th>rides_t-671</th>\n",
       "      <th>rides_t-670</th>\n",
       "      <th>rides_t-669</th>\n",
       "      <th>rides_t-668</th>\n",
       "      <th>rides_t-667</th>\n",
       "      <th>rides_t-666</th>\n",
       "      <th>rides_t-665</th>\n",
       "      <th>rides_t-664</th>\n",
       "      <th>rides_t-663</th>\n",
       "      <th>...</th>\n",
       "      <th>rides_t-7</th>\n",
       "      <th>rides_t-6</th>\n",
       "      <th>rides_t-5</th>\n",
       "      <th>rides_t-4</th>\n",
       "      <th>rides_t-3</th>\n",
       "      <th>rides_t-2</th>\n",
       "      <th>rides_t-1</th>\n",
       "      <th>target</th>\n",
       "      <th>pickup_hour</th>\n",
       "      <th>pickup_location_id</th>\n",
       "    </tr>\n",
       "  </thead>\n",
       "  <tbody>\n",
       "    <tr>\n",
       "      <th>0</th>\n",
       "      <td>0</td>\n",
       "      <td>0</td>\n",
       "      <td>0</td>\n",
       "      <td>0</td>\n",
       "      <td>0</td>\n",
       "      <td>0</td>\n",
       "      <td>0</td>\n",
       "      <td>0</td>\n",
       "      <td>1</td>\n",
       "      <td>2</td>\n",
       "      <td>...</td>\n",
       "      <td>0</td>\n",
       "      <td>0</td>\n",
       "      <td>0</td>\n",
       "      <td>0</td>\n",
       "      <td>0</td>\n",
       "      <td>0</td>\n",
       "      <td>0</td>\n",
       "      <td>0</td>\n",
       "      <td>2024-02-03</td>\n",
       "      <td>HB101</td>\n",
       "    </tr>\n",
       "    <tr>\n",
       "      <th>1</th>\n",
       "      <td>0</td>\n",
       "      <td>0</td>\n",
       "      <td>0</td>\n",
       "      <td>0</td>\n",
       "      <td>0</td>\n",
       "      <td>0</td>\n",
       "      <td>0</td>\n",
       "      <td>0</td>\n",
       "      <td>0</td>\n",
       "      <td>0</td>\n",
       "      <td>...</td>\n",
       "      <td>0</td>\n",
       "      <td>0</td>\n",
       "      <td>0</td>\n",
       "      <td>0</td>\n",
       "      <td>0</td>\n",
       "      <td>0</td>\n",
       "      <td>0</td>\n",
       "      <td>0</td>\n",
       "      <td>2024-02-04</td>\n",
       "      <td>HB101</td>\n",
       "    </tr>\n",
       "    <tr>\n",
       "      <th>2</th>\n",
       "      <td>0</td>\n",
       "      <td>0</td>\n",
       "      <td>0</td>\n",
       "      <td>0</td>\n",
       "      <td>0</td>\n",
       "      <td>0</td>\n",
       "      <td>1</td>\n",
       "      <td>6</td>\n",
       "      <td>5</td>\n",
       "      <td>3</td>\n",
       "      <td>...</td>\n",
       "      <td>0</td>\n",
       "      <td>0</td>\n",
       "      <td>0</td>\n",
       "      <td>0</td>\n",
       "      <td>0</td>\n",
       "      <td>0</td>\n",
       "      <td>0</td>\n",
       "      <td>0</td>\n",
       "      <td>2024-02-05</td>\n",
       "      <td>HB101</td>\n",
       "    </tr>\n",
       "    <tr>\n",
       "      <th>3</th>\n",
       "      <td>4</td>\n",
       "      <td>5</td>\n",
       "      <td>4</td>\n",
       "      <td>0</td>\n",
       "      <td>0</td>\n",
       "      <td>0</td>\n",
       "      <td>0</td>\n",
       "      <td>0</td>\n",
       "      <td>0</td>\n",
       "      <td>3</td>\n",
       "      <td>...</td>\n",
       "      <td>0</td>\n",
       "      <td>0</td>\n",
       "      <td>0</td>\n",
       "      <td>0</td>\n",
       "      <td>0</td>\n",
       "      <td>0</td>\n",
       "      <td>0</td>\n",
       "      <td>0</td>\n",
       "      <td>2024-02-06</td>\n",
       "      <td>HB101</td>\n",
       "    </tr>\n",
       "    <tr>\n",
       "      <th>4</th>\n",
       "      <td>0</td>\n",
       "      <td>0</td>\n",
       "      <td>0</td>\n",
       "      <td>0</td>\n",
       "      <td>0</td>\n",
       "      <td>0</td>\n",
       "      <td>0</td>\n",
       "      <td>3</td>\n",
       "      <td>9</td>\n",
       "      <td>2</td>\n",
       "      <td>...</td>\n",
       "      <td>4</td>\n",
       "      <td>7</td>\n",
       "      <td>7</td>\n",
       "      <td>3</td>\n",
       "      <td>5</td>\n",
       "      <td>3</td>\n",
       "      <td>1</td>\n",
       "      <td>0</td>\n",
       "      <td>2024-02-07</td>\n",
       "      <td>HB101</td>\n",
       "    </tr>\n",
       "  </tbody>\n",
       "</table>\n",
       "<p>5 rows × 675 columns</p>\n",
       "</div>"
      ],
      "text/plain": [
       "   rides_t-672  rides_t-671  rides_t-670  rides_t-669  rides_t-668  \\\n",
       "0            0            0            0            0            0   \n",
       "1            0            0            0            0            0   \n",
       "2            0            0            0            0            0   \n",
       "3            4            5            4            0            0   \n",
       "4            0            0            0            0            0   \n",
       "\n",
       "   rides_t-667  rides_t-666  rides_t-665  rides_t-664  rides_t-663  ...  \\\n",
       "0            0            0            0            1            2  ...   \n",
       "1            0            0            0            0            0  ...   \n",
       "2            0            1            6            5            3  ...   \n",
       "3            0            0            0            0            3  ...   \n",
       "4            0            0            3            9            2  ...   \n",
       "\n",
       "   rides_t-7  rides_t-6  rides_t-5  rides_t-4  rides_t-3  rides_t-2  \\\n",
       "0          0          0          0          0          0          0   \n",
       "1          0          0          0          0          0          0   \n",
       "2          0          0          0          0          0          0   \n",
       "3          0          0          0          0          0          0   \n",
       "4          4          7          7          3          5          3   \n",
       "\n",
       "   rides_t-1  target  pickup_hour  pickup_location_id  \n",
       "0          0       0   2024-02-03               HB101  \n",
       "1          0       0   2024-02-04               HB101  \n",
       "2          0       0   2024-02-05               HB101  \n",
       "3          0       0   2024-02-06               HB101  \n",
       "4          1       0   2024-02-07               HB101  \n",
       "\n",
       "[5 rows x 675 columns]"
      ]
     },
     "execution_count": 3,
     "metadata": {},
     "output_type": "execute_result"
    }
   ],
   "source": [
    "import pandas as pd\n",
    "from src.config import TRANSFORMED_DATA_DIR\n",
    "\n",
    "df = pd.read_parquet(TRANSFORMED_DATA_DIR / \"citibike_tabular_data_28d.parquet\")\n",
    "df.head()\n",
    "\n"
   ]
  },
  {
   "cell_type": "code",
   "execution_count": 4,
   "id": "8ec6ca42",
   "metadata": {},
   "outputs": [],
   "source": [
    "df_est = df.copy()\n",
    "df_est[\"pickup_hour\"] = pd.to_datetime(df_est[\"pickup_hour\"])\n",
    "df_est[\"pickup_hour\"] = df_est[\"pickup_hour\"].dt.tz_localize(\"UTC\").dt.tz_convert(\"America/New_York\")\n"
   ]
  },
  {
   "cell_type": "code",
   "execution_count": 5,
   "id": "7cfd1606",
   "metadata": {},
   "outputs": [
    {
     "data": {
      "text/html": [
       "<div>\n",
       "<style scoped>\n",
       "    .dataframe tbody tr th:only-of-type {\n",
       "        vertical-align: middle;\n",
       "    }\n",
       "\n",
       "    .dataframe tbody tr th {\n",
       "        vertical-align: top;\n",
       "    }\n",
       "\n",
       "    .dataframe thead th {\n",
       "        text-align: right;\n",
       "    }\n",
       "</style>\n",
       "<table border=\"1\" class=\"dataframe\">\n",
       "  <thead>\n",
       "    <tr style=\"text-align: right;\">\n",
       "      <th></th>\n",
       "      <th>rides_t-672</th>\n",
       "      <th>rides_t-671</th>\n",
       "      <th>rides_t-670</th>\n",
       "      <th>rides_t-669</th>\n",
       "      <th>rides_t-668</th>\n",
       "      <th>rides_t-667</th>\n",
       "      <th>rides_t-666</th>\n",
       "      <th>rides_t-665</th>\n",
       "      <th>rides_t-664</th>\n",
       "      <th>rides_t-663</th>\n",
       "      <th>...</th>\n",
       "      <th>rides_t-7</th>\n",
       "      <th>rides_t-6</th>\n",
       "      <th>rides_t-5</th>\n",
       "      <th>rides_t-4</th>\n",
       "      <th>rides_t-3</th>\n",
       "      <th>rides_t-2</th>\n",
       "      <th>rides_t-1</th>\n",
       "      <th>target</th>\n",
       "      <th>pickup_hour</th>\n",
       "      <th>pickup_location_id</th>\n",
       "    </tr>\n",
       "  </thead>\n",
       "  <tbody>\n",
       "    <tr>\n",
       "      <th>0</th>\n",
       "      <td>0</td>\n",
       "      <td>0</td>\n",
       "      <td>0</td>\n",
       "      <td>0</td>\n",
       "      <td>0</td>\n",
       "      <td>0</td>\n",
       "      <td>0</td>\n",
       "      <td>0</td>\n",
       "      <td>1</td>\n",
       "      <td>2</td>\n",
       "      <td>...</td>\n",
       "      <td>0</td>\n",
       "      <td>0</td>\n",
       "      <td>0</td>\n",
       "      <td>0</td>\n",
       "      <td>0</td>\n",
       "      <td>0</td>\n",
       "      <td>0</td>\n",
       "      <td>0</td>\n",
       "      <td>2024-02-03</td>\n",
       "      <td>HB101</td>\n",
       "    </tr>\n",
       "    <tr>\n",
       "      <th>1</th>\n",
       "      <td>0</td>\n",
       "      <td>0</td>\n",
       "      <td>0</td>\n",
       "      <td>0</td>\n",
       "      <td>0</td>\n",
       "      <td>0</td>\n",
       "      <td>0</td>\n",
       "      <td>0</td>\n",
       "      <td>0</td>\n",
       "      <td>0</td>\n",
       "      <td>...</td>\n",
       "      <td>0</td>\n",
       "      <td>0</td>\n",
       "      <td>0</td>\n",
       "      <td>0</td>\n",
       "      <td>0</td>\n",
       "      <td>0</td>\n",
       "      <td>0</td>\n",
       "      <td>0</td>\n",
       "      <td>2024-02-04</td>\n",
       "      <td>HB101</td>\n",
       "    </tr>\n",
       "    <tr>\n",
       "      <th>2</th>\n",
       "      <td>0</td>\n",
       "      <td>0</td>\n",
       "      <td>0</td>\n",
       "      <td>0</td>\n",
       "      <td>0</td>\n",
       "      <td>0</td>\n",
       "      <td>1</td>\n",
       "      <td>6</td>\n",
       "      <td>5</td>\n",
       "      <td>3</td>\n",
       "      <td>...</td>\n",
       "      <td>0</td>\n",
       "      <td>0</td>\n",
       "      <td>0</td>\n",
       "      <td>0</td>\n",
       "      <td>0</td>\n",
       "      <td>0</td>\n",
       "      <td>0</td>\n",
       "      <td>0</td>\n",
       "      <td>2024-02-05</td>\n",
       "      <td>HB101</td>\n",
       "    </tr>\n",
       "    <tr>\n",
       "      <th>3</th>\n",
       "      <td>4</td>\n",
       "      <td>5</td>\n",
       "      <td>4</td>\n",
       "      <td>0</td>\n",
       "      <td>0</td>\n",
       "      <td>0</td>\n",
       "      <td>0</td>\n",
       "      <td>0</td>\n",
       "      <td>0</td>\n",
       "      <td>3</td>\n",
       "      <td>...</td>\n",
       "      <td>0</td>\n",
       "      <td>0</td>\n",
       "      <td>0</td>\n",
       "      <td>0</td>\n",
       "      <td>0</td>\n",
       "      <td>0</td>\n",
       "      <td>0</td>\n",
       "      <td>0</td>\n",
       "      <td>2024-02-06</td>\n",
       "      <td>HB101</td>\n",
       "    </tr>\n",
       "    <tr>\n",
       "      <th>4</th>\n",
       "      <td>0</td>\n",
       "      <td>0</td>\n",
       "      <td>0</td>\n",
       "      <td>0</td>\n",
       "      <td>0</td>\n",
       "      <td>0</td>\n",
       "      <td>0</td>\n",
       "      <td>3</td>\n",
       "      <td>9</td>\n",
       "      <td>2</td>\n",
       "      <td>...</td>\n",
       "      <td>4</td>\n",
       "      <td>7</td>\n",
       "      <td>7</td>\n",
       "      <td>3</td>\n",
       "      <td>5</td>\n",
       "      <td>3</td>\n",
       "      <td>1</td>\n",
       "      <td>0</td>\n",
       "      <td>2024-02-07</td>\n",
       "      <td>HB101</td>\n",
       "    </tr>\n",
       "  </tbody>\n",
       "</table>\n",
       "<p>5 rows × 675 columns</p>\n",
       "</div>"
      ],
      "text/plain": [
       "   rides_t-672  rides_t-671  rides_t-670  rides_t-669  rides_t-668  \\\n",
       "0            0            0            0            0            0   \n",
       "1            0            0            0            0            0   \n",
       "2            0            0            0            0            0   \n",
       "3            4            5            4            0            0   \n",
       "4            0            0            0            0            0   \n",
       "\n",
       "   rides_t-667  rides_t-666  rides_t-665  rides_t-664  rides_t-663  ...  \\\n",
       "0            0            0            0            1            2  ...   \n",
       "1            0            0            0            0            0  ...   \n",
       "2            0            1            6            5            3  ...   \n",
       "3            0            0            0            0            3  ...   \n",
       "4            0            0            3            9            2  ...   \n",
       "\n",
       "   rides_t-7  rides_t-6  rides_t-5  rides_t-4  rides_t-3  rides_t-2  \\\n",
       "0          0          0          0          0          0          0   \n",
       "1          0          0          0          0          0          0   \n",
       "2          0          0          0          0          0          0   \n",
       "3          0          0          0          0          0          0   \n",
       "4          4          7          7          3          5          3   \n",
       "\n",
       "   rides_t-1  target  pickup_hour  pickup_location_id  \n",
       "0          0       0   2024-02-03               HB101  \n",
       "1          0       0   2024-02-04               HB101  \n",
       "2          0       0   2024-02-05               HB101  \n",
       "3          0       0   2024-02-06               HB101  \n",
       "4          1       0   2024-02-07               HB101  \n",
       "\n",
       "[5 rows x 675 columns]"
      ]
     },
     "execution_count": 5,
     "metadata": {},
     "output_type": "execute_result"
    }
   ],
   "source": [
    "df.head()"
   ]
  },
  {
   "cell_type": "code",
   "execution_count": 6,
   "id": "8da730d9",
   "metadata": {},
   "outputs": [
    {
     "data": {
      "text/html": [
       "<div>\n",
       "<style scoped>\n",
       "    .dataframe tbody tr th:only-of-type {\n",
       "        vertical-align: middle;\n",
       "    }\n",
       "\n",
       "    .dataframe tbody tr th {\n",
       "        vertical-align: top;\n",
       "    }\n",
       "\n",
       "    .dataframe thead th {\n",
       "        text-align: right;\n",
       "    }\n",
       "</style>\n",
       "<table border=\"1\" class=\"dataframe\">\n",
       "  <thead>\n",
       "    <tr style=\"text-align: right;\">\n",
       "      <th></th>\n",
       "      <th>rides_t-672</th>\n",
       "      <th>rides_t-671</th>\n",
       "      <th>rides_t-670</th>\n",
       "      <th>rides_t-669</th>\n",
       "      <th>rides_t-668</th>\n",
       "      <th>rides_t-667</th>\n",
       "      <th>rides_t-666</th>\n",
       "      <th>rides_t-665</th>\n",
       "      <th>rides_t-664</th>\n",
       "      <th>rides_t-663</th>\n",
       "      <th>...</th>\n",
       "      <th>rides_t-7</th>\n",
       "      <th>rides_t-6</th>\n",
       "      <th>rides_t-5</th>\n",
       "      <th>rides_t-4</th>\n",
       "      <th>rides_t-3</th>\n",
       "      <th>rides_t-2</th>\n",
       "      <th>rides_t-1</th>\n",
       "      <th>target</th>\n",
       "      <th>pickup_hour</th>\n",
       "      <th>pickup_location_id</th>\n",
       "    </tr>\n",
       "  </thead>\n",
       "  <tbody>\n",
       "    <tr>\n",
       "      <th>0</th>\n",
       "      <td>0</td>\n",
       "      <td>0</td>\n",
       "      <td>0</td>\n",
       "      <td>0</td>\n",
       "      <td>0</td>\n",
       "      <td>0</td>\n",
       "      <td>0</td>\n",
       "      <td>0</td>\n",
       "      <td>1</td>\n",
       "      <td>2</td>\n",
       "      <td>...</td>\n",
       "      <td>0</td>\n",
       "      <td>0</td>\n",
       "      <td>0</td>\n",
       "      <td>0</td>\n",
       "      <td>0</td>\n",
       "      <td>0</td>\n",
       "      <td>0</td>\n",
       "      <td>0</td>\n",
       "      <td>2024-02-02 19:00:00-05:00</td>\n",
       "      <td>HB101</td>\n",
       "    </tr>\n",
       "    <tr>\n",
       "      <th>1</th>\n",
       "      <td>0</td>\n",
       "      <td>0</td>\n",
       "      <td>0</td>\n",
       "      <td>0</td>\n",
       "      <td>0</td>\n",
       "      <td>0</td>\n",
       "      <td>0</td>\n",
       "      <td>0</td>\n",
       "      <td>0</td>\n",
       "      <td>0</td>\n",
       "      <td>...</td>\n",
       "      <td>0</td>\n",
       "      <td>0</td>\n",
       "      <td>0</td>\n",
       "      <td>0</td>\n",
       "      <td>0</td>\n",
       "      <td>0</td>\n",
       "      <td>0</td>\n",
       "      <td>0</td>\n",
       "      <td>2024-02-03 19:00:00-05:00</td>\n",
       "      <td>HB101</td>\n",
       "    </tr>\n",
       "    <tr>\n",
       "      <th>2</th>\n",
       "      <td>0</td>\n",
       "      <td>0</td>\n",
       "      <td>0</td>\n",
       "      <td>0</td>\n",
       "      <td>0</td>\n",
       "      <td>0</td>\n",
       "      <td>1</td>\n",
       "      <td>6</td>\n",
       "      <td>5</td>\n",
       "      <td>3</td>\n",
       "      <td>...</td>\n",
       "      <td>0</td>\n",
       "      <td>0</td>\n",
       "      <td>0</td>\n",
       "      <td>0</td>\n",
       "      <td>0</td>\n",
       "      <td>0</td>\n",
       "      <td>0</td>\n",
       "      <td>0</td>\n",
       "      <td>2024-02-04 19:00:00-05:00</td>\n",
       "      <td>HB101</td>\n",
       "    </tr>\n",
       "    <tr>\n",
       "      <th>3</th>\n",
       "      <td>4</td>\n",
       "      <td>5</td>\n",
       "      <td>4</td>\n",
       "      <td>0</td>\n",
       "      <td>0</td>\n",
       "      <td>0</td>\n",
       "      <td>0</td>\n",
       "      <td>0</td>\n",
       "      <td>0</td>\n",
       "      <td>3</td>\n",
       "      <td>...</td>\n",
       "      <td>0</td>\n",
       "      <td>0</td>\n",
       "      <td>0</td>\n",
       "      <td>0</td>\n",
       "      <td>0</td>\n",
       "      <td>0</td>\n",
       "      <td>0</td>\n",
       "      <td>0</td>\n",
       "      <td>2024-02-05 19:00:00-05:00</td>\n",
       "      <td>HB101</td>\n",
       "    </tr>\n",
       "    <tr>\n",
       "      <th>4</th>\n",
       "      <td>0</td>\n",
       "      <td>0</td>\n",
       "      <td>0</td>\n",
       "      <td>0</td>\n",
       "      <td>0</td>\n",
       "      <td>0</td>\n",
       "      <td>0</td>\n",
       "      <td>3</td>\n",
       "      <td>9</td>\n",
       "      <td>2</td>\n",
       "      <td>...</td>\n",
       "      <td>4</td>\n",
       "      <td>7</td>\n",
       "      <td>7</td>\n",
       "      <td>3</td>\n",
       "      <td>5</td>\n",
       "      <td>3</td>\n",
       "      <td>1</td>\n",
       "      <td>0</td>\n",
       "      <td>2024-02-06 19:00:00-05:00</td>\n",
       "      <td>HB101</td>\n",
       "    </tr>\n",
       "  </tbody>\n",
       "</table>\n",
       "<p>5 rows × 675 columns</p>\n",
       "</div>"
      ],
      "text/plain": [
       "   rides_t-672  rides_t-671  rides_t-670  rides_t-669  rides_t-668  \\\n",
       "0            0            0            0            0            0   \n",
       "1            0            0            0            0            0   \n",
       "2            0            0            0            0            0   \n",
       "3            4            5            4            0            0   \n",
       "4            0            0            0            0            0   \n",
       "\n",
       "   rides_t-667  rides_t-666  rides_t-665  rides_t-664  rides_t-663  ...  \\\n",
       "0            0            0            0            1            2  ...   \n",
       "1            0            0            0            0            0  ...   \n",
       "2            0            1            6            5            3  ...   \n",
       "3            0            0            0            0            3  ...   \n",
       "4            0            0            3            9            2  ...   \n",
       "\n",
       "   rides_t-7  rides_t-6  rides_t-5  rides_t-4  rides_t-3  rides_t-2  \\\n",
       "0          0          0          0          0          0          0   \n",
       "1          0          0          0          0          0          0   \n",
       "2          0          0          0          0          0          0   \n",
       "3          0          0          0          0          0          0   \n",
       "4          4          7          7          3          5          3   \n",
       "\n",
       "   rides_t-1  target               pickup_hour  pickup_location_id  \n",
       "0          0       0 2024-02-02 19:00:00-05:00               HB101  \n",
       "1          0       0 2024-02-03 19:00:00-05:00               HB101  \n",
       "2          0       0 2024-02-04 19:00:00-05:00               HB101  \n",
       "3          0       0 2024-02-05 19:00:00-05:00               HB101  \n",
       "4          1       0 2024-02-06 19:00:00-05:00               HB101  \n",
       "\n",
       "[5 rows x 675 columns]"
      ]
     },
     "execution_count": 6,
     "metadata": {},
     "output_type": "execute_result"
    }
   ],
   "source": [
    "df_est.head()"
   ]
  },
  {
   "cell_type": "code",
   "execution_count": 8,
   "id": "375ff8cf-b58e-4e8c-8d91-80b325d5cf31",
   "metadata": {},
   "outputs": [
    {
     "name": "stdout",
     "output_type": "stream",
     "text": [
      "(1665, 674)\n",
      "(1665,)\n",
      "(600, 674)\n",
      "(600,)\n"
     ]
    }
   ],
   "source": [
    "from datetime import datetime\n",
    "from src.data_utils import split_time_series_data\n",
    "\n",
    "\n",
    "X_train, y_train, X_test, y_test = split_time_series_data(\n",
    "    df,  # or df_ts or your actual DataFrame\n",
    "    cutoff_date=datetime(2025, 1, 1, 0, 0, 0),  # within your date range\n",
    "    target_column=\"target\"  # actual target column name\n",
    ")\n",
    "\n",
    "print(X_train.shape)\n",
    "print(y_train.shape)\n",
    "print(X_test.shape)\n",
    "print(y_test.shape)\n"
   ]
  },
  {
   "cell_type": "code",
   "execution_count": 9,
   "id": "607bfb35-84cf-4410-a4ac-5075d1d4a8f1",
   "metadata": {},
   "outputs": [],
   "source": [
    "import numpy as np\n",
    "\n",
    "class BaselineModelPreviousHour:\n",
    "    def fit(self, X_train: pd.DataFrame, y_train: pd.Series):\n",
    "        pass\n",
    "\n",
    "    def predict(self, X_test: pd.DataFrame) -> np.array:\n",
    "        return X_test[\"rides_t-1\"]\n"
   ]
  },
  {
   "cell_type": "code",
   "execution_count": 10,
   "id": "6bd315ce-2039-4ebf-9c1d-d56003bf3db2",
   "metadata": {},
   "outputs": [],
   "source": [
    "model = BaselineModelPreviousHour()\n",
    "predictions = model.predict(X_test)\n"
   ]
  },
  {
   "cell_type": "code",
   "execution_count": 11,
   "id": "23ab1392-4ba7-48a9-88d7-c882bf500222",
   "metadata": {},
   "outputs": [
    {
     "name": "stdout",
     "output_type": "stream",
     "text": [
      "1.0833\n"
     ]
    }
   ],
   "source": [
    "from sklearn.metrics import mean_absolute_error\n",
    "\n",
    "test_mae = mean_absolute_error(y_test, predictions)\n",
    "print(f\"{test_mae:.4f}\")\n"
   ]
  },
  {
   "cell_type": "code",
   "execution_count": 12,
   "id": "1cd98cb4-c618-4e4d-8cca-d457edea1698",
   "metadata": {},
   "outputs": [
    {
     "name": "stderr",
     "output_type": "stream",
     "text": [
      "INFO:src.experiment_utils:MLflow tracking URI and credentials set.\n"
     ]
    }
   ],
   "source": [
    "from src.experiment_utils import set_mlflow_tracking, log_model_to_mlflow\n",
    "from dotenv import load_dotenv\n",
    "load_dotenv() \n",
    "\n",
    "mlflow = set_mlflow_tracking()\n"
   ]
  },
  {
   "cell_type": "code",
   "execution_count": 13,
   "id": "48af73a3-62fd-4096-bc52-685e9cd787cf",
   "metadata": {},
   "outputs": [
    {
     "name": "stderr",
     "output_type": "stream",
     "text": [
      "2025/05/10 04:57:50 INFO mlflow.tracking.fluent: Experiment with name 'BaselineModelPreviousHour' does not exist. Creating a new experiment.\n",
      "INFO:src.experiment_utils:Experiment set to: BaselineModelPreviousHour\n",
      "INFO:src.experiment_utils:Logged mean_absolute_error: 1.0833333333333333\n",
      "c:\\Users\\Yaseen\\anaconda3\\envs\\venv\\Lib\\site-packages\\mlflow\\types\\utils.py:452: UserWarning: Hint: Inferred schema contains integer column(s). Integer columns in Python cannot represent missing values. If your input data contains missing values at inference time, it will be encoded as floats and will cause a schema enforcement error. The best way to avoid this problem is to infer the model schema based on a realistic data sample (training dataset) that includes missing values. Alternatively, you can declare integer columns as doubles (float64) whenever these columns may have missing values. See `Handling Integers With Missing Values <https://www.mlflow.org/docs/latest/models.html#handling-integers-with-missing-values>`_ for more details.\n",
      "  warnings.warn(\n",
      "INFO:src.experiment_utils:Model signature inferred.\n"
     ]
    },
    {
     "data": {
      "application/vnd.jupyter.widget-view+json": {
       "model_id": "54369e9e7a7c4204bfde73b8ad3b9b74",
       "version_major": 2,
       "version_minor": 0
      },
      "text/plain": [
       "Downloading artifacts:   0%|          | 0/7 [00:00<?, ?it/s]"
      ]
     },
     "metadata": {},
     "output_type": "display_data"
    },
    {
     "name": "stderr",
     "output_type": "stream",
     "text": [
      "2025/05/10 04:58:02 INFO mlflow.models.model: Found the following environment variables used during model inference: [HOPSWORKS_API_KEY]. Please check if you need to set them when deploying the model. To disable this message, set environment variable `MLFLOW_RECORD_ENV_VARS_IN_MODEL_LOGGING` to `false`.\n",
      "Successfully registered model 'BaselineModelPreviousHour'.\n",
      "2025/05/10 04:58:10 INFO mlflow.store.model_registry.abstract_store: Waiting up to 300 seconds for model version to finish creation. Model name: BaselineModelPreviousHour, version 1\n",
      "Created version '1' of model 'BaselineModelPreviousHour'.\n",
      "INFO:src.experiment_utils:Model logged with name: BaselineModelPreviousHour\n"
     ]
    },
    {
     "name": "stdout",
     "output_type": "stream",
     "text": [
      "🏃 View run upset-robin-489 at: https://dagshub.com/yaseensiddiqui36/cda500_final_project_citi_bike.mlflow/#/experiments/0/runs/3ff53c4bd4984d9bb232a362ff6b92ff\n",
      "🧪 View experiment at: https://dagshub.com/yaseensiddiqui36/cda500_final_project_citi_bike.mlflow/#/experiments/0\n"
     ]
    },
    {
     "data": {
      "text/plain": [
       "<mlflow.models.model.ModelInfo at 0x209db53aa50>"
      ]
     },
     "execution_count": 13,
     "metadata": {},
     "output_type": "execute_result"
    }
   ],
   "source": [
    "log_model_to_mlflow(\n",
    "    model,\n",
    "    X_test,\n",
    "    \"BaselineModelPreviousHour\",\n",
    "    \"mean_absolute_error\",\n",
    "    score=test_mae\n",
    ")\n"
   ]
  },
  {
   "cell_type": "code",
   "execution_count": 14,
   "id": "3a514fbb-4ea7-4261-802e-b6d9572ddd76",
   "metadata": {},
   "outputs": [],
   "source": [
    "class BaselineModelPreviousWeek:\n",
    "    def fit(self, X_train: pd.DataFrame, y_train: pd.Series):\n",
    "        pass\n",
    "\n",
    "    def predict(self, X_test: pd.DataFrame) -> np.array:\n",
    "        return X_test[f\"rides_t-{7*24}\"]  # rides_t-168\n"
   ]
  },
  {
   "cell_type": "code",
   "execution_count": 15,
   "id": "ce2a60d5-75ce-493f-b938-6f4112abf9eb",
   "metadata": {},
   "outputs": [],
   "source": [
    "model = BaselineModelPreviousWeek()\n",
    "predictions = model.predict(X_test)\n"
   ]
  },
  {
   "cell_type": "code",
   "execution_count": 16,
   "id": "5de6b0c8-a9f9-434c-be3e-d7cdf5a4c8ec",
   "metadata": {},
   "outputs": [
    {
     "name": "stdout",
     "output_type": "stream",
     "text": [
      "0.9950\n"
     ]
    }
   ],
   "source": [
    "test_mae = mean_absolute_error(y_test, predictions)\n",
    "print(f\"{test_mae:.4f}\")"
   ]
  },
  {
   "cell_type": "code",
   "execution_count": 17,
   "id": "db5cf5f3-3be7-4735-8b43-d752599aedc4",
   "metadata": {},
   "outputs": [
    {
     "name": "stderr",
     "output_type": "stream",
     "text": [
      "2025/05/10 04:59:25 INFO mlflow.tracking.fluent: Experiment with name 'BaselineModelPreviousWeek' does not exist. Creating a new experiment.\n",
      "INFO:src.experiment_utils:Experiment set to: BaselineModelPreviousWeek\n",
      "INFO:src.experiment_utils:Logged mean_absolute_error: 0.995\n",
      "c:\\Users\\Yaseen\\anaconda3\\envs\\venv\\Lib\\site-packages\\mlflow\\types\\utils.py:452: UserWarning: Hint: Inferred schema contains integer column(s). Integer columns in Python cannot represent missing values. If your input data contains missing values at inference time, it will be encoded as floats and will cause a schema enforcement error. The best way to avoid this problem is to infer the model schema based on a realistic data sample (training dataset) that includes missing values. Alternatively, you can declare integer columns as doubles (float64) whenever these columns may have missing values. See `Handling Integers With Missing Values <https://www.mlflow.org/docs/latest/models.html#handling-integers-with-missing-values>`_ for more details.\n",
      "  warnings.warn(\n",
      "INFO:src.experiment_utils:Model signature inferred.\n"
     ]
    },
    {
     "data": {
      "application/vnd.jupyter.widget-view+json": {
       "model_id": "37e8dbf6ef134964bad167787ad44278",
       "version_major": 2,
       "version_minor": 0
      },
      "text/plain": [
       "Downloading artifacts:   0%|          | 0/7 [00:00<?, ?it/s]"
      ]
     },
     "metadata": {},
     "output_type": "display_data"
    },
    {
     "name": "stderr",
     "output_type": "stream",
     "text": [
      "Successfully registered model 'BaselineModelPreviousWeek'.\n",
      "2025/05/10 04:59:39 INFO mlflow.store.model_registry.abstract_store: Waiting up to 300 seconds for model version to finish creation. Model name: BaselineModelPreviousWeek, version 1\n",
      "Created version '1' of model 'BaselineModelPreviousWeek'.\n",
      "INFO:src.experiment_utils:Model logged with name: BaselineModelPreviousWeek\n"
     ]
    },
    {
     "name": "stdout",
     "output_type": "stream",
     "text": [
      "🏃 View run classy-quail-408 at: https://dagshub.com/yaseensiddiqui36/cda500_final_project_citi_bike.mlflow/#/experiments/1/runs/37761618be1d479eb72b93f2b25428c8\n",
      "🧪 View experiment at: https://dagshub.com/yaseensiddiqui36/cda500_final_project_citi_bike.mlflow/#/experiments/1\n"
     ]
    },
    {
     "data": {
      "text/plain": [
       "<mlflow.models.model.ModelInfo at 0x209db4bc5d0>"
      ]
     },
     "execution_count": 17,
     "metadata": {},
     "output_type": "execute_result"
    }
   ],
   "source": [
    "log_model_to_mlflow(model, X_test, \"BaselineModelPreviousWeek\", \"mean_absolute_error\", score=test_mae)"
   ]
  },
  {
   "cell_type": "code",
   "execution_count": 18,
   "id": "640d2e38",
   "metadata": {},
   "outputs": [
    {
     "name": "stdout",
     "output_type": "stream",
     "text": [
      "0.9950\n"
     ]
    }
   ],
   "source": [
    "from sklearn.metrics import mean_absolute_error\n",
    "\n",
    "test_mae = mean_absolute_error(y_test, predictions)\n",
    "print(f\"{test_mae:.4f}\")\n"
   ]
  },
  {
   "cell_type": "code",
   "execution_count": 19,
   "id": "81cdad64-c6b2-44fc-8cf1-38803199e771",
   "metadata": {},
   "outputs": [],
   "source": [
    "import numpy as np\n",
    "import pandas as pd\n",
    "\n",
    "class BaselineModelLast4Weeks:\n",
    "    \"\"\"\n",
    "    A baseline model that predicts the average of the last 4 weeks (28 days)\n",
    "    for each test instance.\n",
    "    \"\"\"\n",
    "\n",
    "    def fit(self, X_train: pd.DataFrame, y_train: pd.Series):\n",
    "        pass  # No training needed for baseline\n",
    "\n",
    "    def predict(self, X_test: pd.DataFrame) -> np.array:\n",
    "        last_4_weeks_columns = [\n",
    "            f\"rides_t-{7*24}\",   # 1 week ago\n",
    "            f\"rides_t-{14*24}\",  # 2 weeks ago\n",
    "            f\"rides_t-{21*24}\",  # 3 weeks ago\n",
    "            f\"rides_t-{28*24}\"   # 4 weeks ago\n",
    "        ]\n",
    "        for col in last_4_weeks_columns:\n",
    "            if col not in X_test.columns:\n",
    "                raise ValueError(f\"Missing required column: {col}\")\n",
    "        return X_test[last_4_weeks_columns].mean(axis=1).to_numpy()\n"
   ]
  },
  {
   "cell_type": "code",
   "execution_count": 20,
   "id": "c578e858-3a10-4903-9647-394d975f4a50",
   "metadata": {},
   "outputs": [],
   "source": [
    "model = BaselineModelLast4Weeks()\n",
    "predictions = model.predict(X_test)\n"
   ]
  },
  {
   "cell_type": "code",
   "execution_count": 21,
   "id": "ef59ced3-dae5-4ef8-bcc8-234012e4377c",
   "metadata": {},
   "outputs": [
    {
     "name": "stdout",
     "output_type": "stream",
     "text": [
      "0.8817\n"
     ]
    }
   ],
   "source": [
    "test_mae = mean_absolute_error(y_test, predictions)\n",
    "print(f\"{test_mae:.4f}\")\n"
   ]
  },
  {
   "cell_type": "code",
   "execution_count": 22,
   "id": "e106e233-1396-41e9-8906-1d45a1ab6972",
   "metadata": {},
   "outputs": [
    {
     "name": "stdout",
     "output_type": "stream",
     "text": [
      "0.8817\n"
     ]
    }
   ],
   "source": [
    "test_mae = mean_absolute_error(y_test, predictions)\n",
    "print(f\"{test_mae:.4f}\")"
   ]
  },
  {
   "cell_type": "code",
   "execution_count": 23,
   "id": "1da51143-c03b-4e23-ab83-2154b8f12f92",
   "metadata": {},
   "outputs": [
    {
     "name": "stderr",
     "output_type": "stream",
     "text": [
      "2025/05/10 05:00:06 INFO mlflow.tracking.fluent: Experiment with name 'BaselineModelLast4Weeks' does not exist. Creating a new experiment.\n",
      "INFO:src.experiment_utils:Experiment set to: BaselineModelLast4Weeks\n",
      "INFO:src.experiment_utils:Logged mean_absolute_error: 0.8816666666666667\n",
      "c:\\Users\\Yaseen\\anaconda3\\envs\\venv\\Lib\\site-packages\\mlflow\\types\\utils.py:452: UserWarning: Hint: Inferred schema contains integer column(s). Integer columns in Python cannot represent missing values. If your input data contains missing values at inference time, it will be encoded as floats and will cause a schema enforcement error. The best way to avoid this problem is to infer the model schema based on a realistic data sample (training dataset) that includes missing values. Alternatively, you can declare integer columns as doubles (float64) whenever these columns may have missing values. See `Handling Integers With Missing Values <https://www.mlflow.org/docs/latest/models.html#handling-integers-with-missing-values>`_ for more details.\n",
      "  warnings.warn(\n",
      "INFO:src.experiment_utils:Model signature inferred.\n"
     ]
    },
    {
     "data": {
      "application/vnd.jupyter.widget-view+json": {
       "model_id": "767b1bc51b024f6d84fd70fbd6d89ca1",
       "version_major": 2,
       "version_minor": 0
      },
      "text/plain": [
       "Downloading artifacts:   0%|          | 0/7 [00:00<?, ?it/s]"
      ]
     },
     "metadata": {},
     "output_type": "display_data"
    },
    {
     "name": "stderr",
     "output_type": "stream",
     "text": [
      "Successfully registered model 'BaselineModelLast4Weeks'.\n",
      "2025/05/10 05:00:20 INFO mlflow.store.model_registry.abstract_store: Waiting up to 300 seconds for model version to finish creation. Model name: BaselineModelLast4Weeks, version 1\n",
      "Created version '1' of model 'BaselineModelLast4Weeks'.\n",
      "INFO:src.experiment_utils:Model logged with name: BaselineModelLast4Weeks\n"
     ]
    },
    {
     "name": "stdout",
     "output_type": "stream",
     "text": [
      "🏃 View run bustling-yak-821 at: https://dagshub.com/yaseensiddiqui36/cda500_final_project_citi_bike.mlflow/#/experiments/2/runs/d2c11054ec93478c959e9fe03e94c762\n",
      "🧪 View experiment at: https://dagshub.com/yaseensiddiqui36/cda500_final_project_citi_bike.mlflow/#/experiments/2\n"
     ]
    },
    {
     "data": {
      "text/plain": [
       "<mlflow.models.model.ModelInfo at 0x209c7256850>"
      ]
     },
     "execution_count": 23,
     "metadata": {},
     "output_type": "execute_result"
    }
   ],
   "source": [
    "log_model_to_mlflow(model, X_test, \"BaselineModelLast4Weeks\", \"mean_absolute_error\", score=test_mae)\n"
   ]
  },
  {
   "cell_type": "code",
   "execution_count": 24,
   "id": "c421b0f9",
   "metadata": {},
   "outputs": [
    {
     "data": {
      "text/html": [
       "<div>\n",
       "<style scoped>\n",
       "    .dataframe tbody tr th:only-of-type {\n",
       "        vertical-align: middle;\n",
       "    }\n",
       "\n",
       "    .dataframe tbody tr th {\n",
       "        vertical-align: top;\n",
       "    }\n",
       "\n",
       "    .dataframe thead th {\n",
       "        text-align: right;\n",
       "    }\n",
       "</style>\n",
       "<table border=\"1\" class=\"dataframe\">\n",
       "  <thead>\n",
       "    <tr style=\"text-align: right;\">\n",
       "      <th></th>\n",
       "      <th>rides_t-672</th>\n",
       "      <th>rides_t-671</th>\n",
       "      <th>rides_t-670</th>\n",
       "      <th>rides_t-669</th>\n",
       "      <th>rides_t-668</th>\n",
       "      <th>rides_t-667</th>\n",
       "      <th>rides_t-666</th>\n",
       "      <th>rides_t-665</th>\n",
       "      <th>rides_t-664</th>\n",
       "      <th>rides_t-663</th>\n",
       "      <th>...</th>\n",
       "      <th>rides_t-8</th>\n",
       "      <th>rides_t-7</th>\n",
       "      <th>rides_t-6</th>\n",
       "      <th>rides_t-5</th>\n",
       "      <th>rides_t-4</th>\n",
       "      <th>rides_t-3</th>\n",
       "      <th>rides_t-2</th>\n",
       "      <th>rides_t-1</th>\n",
       "      <th>pickup_hour</th>\n",
       "      <th>pickup_location_id</th>\n",
       "    </tr>\n",
       "  </thead>\n",
       "  <tbody>\n",
       "    <tr>\n",
       "      <th>333</th>\n",
       "      <td>0</td>\n",
       "      <td>0</td>\n",
       "      <td>0</td>\n",
       "      <td>0</td>\n",
       "      <td>0</td>\n",
       "      <td>0</td>\n",
       "      <td>0</td>\n",
       "      <td>0</td>\n",
       "      <td>0</td>\n",
       "      <td>0</td>\n",
       "      <td>...</td>\n",
       "      <td>0</td>\n",
       "      <td>0</td>\n",
       "      <td>0</td>\n",
       "      <td>0</td>\n",
       "      <td>0</td>\n",
       "      <td>0</td>\n",
       "      <td>0</td>\n",
       "      <td>0</td>\n",
       "      <td>2025-01-01</td>\n",
       "      <td>HB101</td>\n",
       "    </tr>\n",
       "    <tr>\n",
       "      <th>334</th>\n",
       "      <td>0</td>\n",
       "      <td>0</td>\n",
       "      <td>0</td>\n",
       "      <td>0</td>\n",
       "      <td>0</td>\n",
       "      <td>0</td>\n",
       "      <td>0</td>\n",
       "      <td>0</td>\n",
       "      <td>0</td>\n",
       "      <td>0</td>\n",
       "      <td>...</td>\n",
       "      <td>1</td>\n",
       "      <td>0</td>\n",
       "      <td>4</td>\n",
       "      <td>1</td>\n",
       "      <td>2</td>\n",
       "      <td>1</td>\n",
       "      <td>1</td>\n",
       "      <td>3</td>\n",
       "      <td>2025-01-02</td>\n",
       "      <td>HB101</td>\n",
       "    </tr>\n",
       "    <tr>\n",
       "      <th>335</th>\n",
       "      <td>0</td>\n",
       "      <td>0</td>\n",
       "      <td>1</td>\n",
       "      <td>0</td>\n",
       "      <td>0</td>\n",
       "      <td>0</td>\n",
       "      <td>0</td>\n",
       "      <td>3</td>\n",
       "      <td>2</td>\n",
       "      <td>1</td>\n",
       "      <td>...</td>\n",
       "      <td>3</td>\n",
       "      <td>5</td>\n",
       "      <td>2</td>\n",
       "      <td>3</td>\n",
       "      <td>2</td>\n",
       "      <td>2</td>\n",
       "      <td>5</td>\n",
       "      <td>2</td>\n",
       "      <td>2025-01-03</td>\n",
       "      <td>HB101</td>\n",
       "    </tr>\n",
       "    <tr>\n",
       "      <th>336</th>\n",
       "      <td>0</td>\n",
       "      <td>0</td>\n",
       "      <td>0</td>\n",
       "      <td>0</td>\n",
       "      <td>0</td>\n",
       "      <td>0</td>\n",
       "      <td>0</td>\n",
       "      <td>0</td>\n",
       "      <td>0</td>\n",
       "      <td>0</td>\n",
       "      <td>...</td>\n",
       "      <td>0</td>\n",
       "      <td>7</td>\n",
       "      <td>6</td>\n",
       "      <td>0</td>\n",
       "      <td>0</td>\n",
       "      <td>1</td>\n",
       "      <td>1</td>\n",
       "      <td>3</td>\n",
       "      <td>2025-01-04</td>\n",
       "      <td>HB101</td>\n",
       "    </tr>\n",
       "    <tr>\n",
       "      <th>337</th>\n",
       "      <td>4</td>\n",
       "      <td>2</td>\n",
       "      <td>0</td>\n",
       "      <td>0</td>\n",
       "      <td>0</td>\n",
       "      <td>1</td>\n",
       "      <td>0</td>\n",
       "      <td>5</td>\n",
       "      <td>4</td>\n",
       "      <td>3</td>\n",
       "      <td>...</td>\n",
       "      <td>0</td>\n",
       "      <td>0</td>\n",
       "      <td>0</td>\n",
       "      <td>1</td>\n",
       "      <td>1</td>\n",
       "      <td>0</td>\n",
       "      <td>1</td>\n",
       "      <td>4</td>\n",
       "      <td>2025-01-05</td>\n",
       "      <td>HB101</td>\n",
       "    </tr>\n",
       "  </tbody>\n",
       "</table>\n",
       "<p>5 rows × 674 columns</p>\n",
       "</div>"
      ],
      "text/plain": [
       "     rides_t-672  rides_t-671  rides_t-670  rides_t-669  rides_t-668  \\\n",
       "333            0            0            0            0            0   \n",
       "334            0            0            0            0            0   \n",
       "335            0            0            1            0            0   \n",
       "336            0            0            0            0            0   \n",
       "337            4            2            0            0            0   \n",
       "\n",
       "     rides_t-667  rides_t-666  rides_t-665  rides_t-664  rides_t-663  ...  \\\n",
       "333            0            0            0            0            0  ...   \n",
       "334            0            0            0            0            0  ...   \n",
       "335            0            0            3            2            1  ...   \n",
       "336            0            0            0            0            0  ...   \n",
       "337            1            0            5            4            3  ...   \n",
       "\n",
       "     rides_t-8  rides_t-7  rides_t-6  rides_t-5  rides_t-4  rides_t-3  \\\n",
       "333          0          0          0          0          0          0   \n",
       "334          1          0          4          1          2          1   \n",
       "335          3          5          2          3          2          2   \n",
       "336          0          7          6          0          0          1   \n",
       "337          0          0          0          1          1          0   \n",
       "\n",
       "     rides_t-2  rides_t-1  pickup_hour  pickup_location_id  \n",
       "333          0          0   2025-01-01               HB101  \n",
       "334          1          3   2025-01-02               HB101  \n",
       "335          5          2   2025-01-03               HB101  \n",
       "336          1          3   2025-01-04               HB101  \n",
       "337          1          4   2025-01-05               HB101  \n",
       "\n",
       "[5 rows x 674 columns]"
      ]
     },
     "execution_count": 24,
     "metadata": {},
     "output_type": "execute_result"
    }
   ],
   "source": [
    "X_test.head()  # Get the total number of rows\n"
   ]
  },
  {
   "cell_type": "code",
   "execution_count": 45,
   "id": "d271232c-97c6-499b-b5c8-0a66149c5fef",
   "metadata": {},
   "outputs": [
    {
     "data": {
      "application/vnd.plotly.v1+json": {
       "config": {
        "plotlyServerURL": "https://plot.ly"
       },
       "data": [
        {
         "hovertemplate": "Time=%{x}<br>Ride Counts=%{y}<extra></extra>",
         "legendgroup": "",
         "line": {
          "color": "#636efa",
          "dash": "solid"
         },
         "marker": {
          "symbol": "circle"
         },
         "mode": "lines+markers",
         "name": "",
         "orientation": "v",
         "showlegend": false,
         "type": "scatter",
         "x": [
          "2023-11-10T11:00:00.000000000",
          "2023-11-10T12:00:00.000000000",
          "2023-11-10T13:00:00.000000000",
          "2023-11-10T14:00:00.000000000",
          "2023-11-10T15:00:00.000000000",
          "2023-11-10T16:00:00.000000000",
          "2023-11-10T17:00:00.000000000",
          "2023-11-10T18:00:00.000000000",
          "2023-11-10T19:00:00.000000000",
          "2023-11-10T20:00:00.000000000",
          "2023-11-10T21:00:00.000000000",
          "2023-11-10T22:00:00.000000000",
          "2023-11-10T23:00:00.000000000",
          "2023-11-11T00:00:00.000000000",
          "2023-11-11T01:00:00.000000000",
          "2023-11-11T02:00:00.000000000",
          "2023-11-11T03:00:00.000000000",
          "2023-11-11T04:00:00.000000000",
          "2023-11-11T05:00:00.000000000",
          "2023-11-11T06:00:00.000000000",
          "2023-11-11T07:00:00.000000000",
          "2023-11-11T08:00:00.000000000",
          "2023-11-11T09:00:00.000000000",
          "2023-11-11T10:00:00.000000000",
          "2023-11-11T11:00:00.000000000",
          "2023-11-11T12:00:00.000000000",
          "2023-11-11T13:00:00.000000000",
          "2023-11-11T14:00:00.000000000",
          "2023-11-11T15:00:00.000000000",
          "2023-11-11T16:00:00.000000000",
          "2023-11-11T17:00:00.000000000",
          "2023-11-11T18:00:00.000000000",
          "2023-11-11T19:00:00.000000000",
          "2023-11-11T20:00:00.000000000",
          "2023-11-11T21:00:00.000000000",
          "2023-11-11T22:00:00.000000000",
          "2023-11-11T23:00:00.000000000",
          "2023-11-12T00:00:00.000000000",
          "2023-11-12T01:00:00.000000000",
          "2023-11-12T02:00:00.000000000",
          "2023-11-12T03:00:00.000000000",
          "2023-11-12T04:00:00.000000000",
          "2023-11-12T05:00:00.000000000",
          "2023-11-12T06:00:00.000000000",
          "2023-11-12T07:00:00.000000000",
          "2023-11-12T08:00:00.000000000",
          "2023-11-12T09:00:00.000000000",
          "2023-11-12T10:00:00.000000000",
          "2023-11-12T11:00:00.000000000",
          "2023-11-12T12:00:00.000000000",
          "2023-11-12T13:00:00.000000000",
          "2023-11-12T14:00:00.000000000",
          "2023-11-12T15:00:00.000000000",
          "2023-11-12T16:00:00.000000000",
          "2023-11-12T17:00:00.000000000",
          "2023-11-12T18:00:00.000000000",
          "2023-11-12T19:00:00.000000000",
          "2023-11-12T20:00:00.000000000",
          "2023-11-12T21:00:00.000000000",
          "2023-11-12T22:00:00.000000000",
          "2023-11-12T23:00:00.000000000",
          "2023-11-13T00:00:00.000000000",
          "2023-11-13T01:00:00.000000000",
          "2023-11-13T02:00:00.000000000",
          "2023-11-13T03:00:00.000000000",
          "2023-11-13T04:00:00.000000000",
          "2023-11-13T05:00:00.000000000",
          "2023-11-13T06:00:00.000000000",
          "2023-11-13T07:00:00.000000000",
          "2023-11-13T08:00:00.000000000",
          "2023-11-13T09:00:00.000000000",
          "2023-11-13T10:00:00.000000000",
          "2023-11-13T11:00:00.000000000",
          "2023-11-13T12:00:00.000000000",
          "2023-11-13T13:00:00.000000000",
          "2023-11-13T14:00:00.000000000",
          "2023-11-13T15:00:00.000000000",
          "2023-11-13T16:00:00.000000000",
          "2023-11-13T17:00:00.000000000",
          "2023-11-13T18:00:00.000000000",
          "2023-11-13T19:00:00.000000000",
          "2023-11-13T20:00:00.000000000",
          "2023-11-13T21:00:00.000000000",
          "2023-11-13T22:00:00.000000000",
          "2023-11-13T23:00:00.000000000",
          "2023-11-14T00:00:00.000000000",
          "2023-11-14T01:00:00.000000000",
          "2023-11-14T02:00:00.000000000",
          "2023-11-14T03:00:00.000000000",
          "2023-11-14T04:00:00.000000000",
          "2023-11-14T05:00:00.000000000",
          "2023-11-14T06:00:00.000000000",
          "2023-11-14T07:00:00.000000000",
          "2023-11-14T08:00:00.000000000",
          "2023-11-14T09:00:00.000000000",
          "2023-11-14T10:00:00.000000000",
          "2023-11-14T11:00:00.000000000",
          "2023-11-14T12:00:00.000000000",
          "2023-11-14T13:00:00.000000000",
          "2023-11-14T14:00:00.000000000",
          "2023-11-14T15:00:00.000000000",
          "2023-11-14T16:00:00.000000000",
          "2023-11-14T17:00:00.000000000",
          "2023-11-14T18:00:00.000000000",
          "2023-11-14T19:00:00.000000000",
          "2023-11-14T20:00:00.000000000",
          "2023-11-14T21:00:00.000000000",
          "2023-11-14T22:00:00.000000000",
          "2023-11-14T23:00:00.000000000",
          "2023-11-15T00:00:00.000000000",
          "2023-11-15T01:00:00.000000000",
          "2023-11-15T02:00:00.000000000",
          "2023-11-15T03:00:00.000000000",
          "2023-11-15T04:00:00.000000000",
          "2023-11-15T05:00:00.000000000",
          "2023-11-15T06:00:00.000000000",
          "2023-11-15T07:00:00.000000000",
          "2023-11-15T08:00:00.000000000",
          "2023-11-15T09:00:00.000000000",
          "2023-11-15T10:00:00.000000000",
          "2023-11-15T11:00:00.000000000",
          "2023-11-15T12:00:00.000000000",
          "2023-11-15T13:00:00.000000000",
          "2023-11-15T14:00:00.000000000",
          "2023-11-15T15:00:00.000000000",
          "2023-11-15T16:00:00.000000000",
          "2023-11-15T17:00:00.000000000",
          "2023-11-15T18:00:00.000000000",
          "2023-11-15T19:00:00.000000000",
          "2023-11-15T20:00:00.000000000",
          "2023-11-15T21:00:00.000000000",
          "2023-11-15T22:00:00.000000000",
          "2023-11-15T23:00:00.000000000",
          "2023-11-16T00:00:00.000000000",
          "2023-11-16T01:00:00.000000000",
          "2023-11-16T02:00:00.000000000",
          "2023-11-16T03:00:00.000000000",
          "2023-11-16T04:00:00.000000000",
          "2023-11-16T05:00:00.000000000",
          "2023-11-16T06:00:00.000000000",
          "2023-11-16T07:00:00.000000000",
          "2023-11-16T08:00:00.000000000",
          "2023-11-16T09:00:00.000000000",
          "2023-11-16T10:00:00.000000000",
          "2023-11-16T11:00:00.000000000",
          "2023-11-16T12:00:00.000000000",
          "2023-11-16T13:00:00.000000000",
          "2023-11-16T14:00:00.000000000",
          "2023-11-16T15:00:00.000000000",
          "2023-11-16T16:00:00.000000000",
          "2023-11-16T17:00:00.000000000",
          "2023-11-16T18:00:00.000000000",
          "2023-11-16T19:00:00.000000000",
          "2023-11-16T20:00:00.000000000",
          "2023-11-16T21:00:00.000000000",
          "2023-11-16T22:00:00.000000000",
          "2023-11-16T23:00:00.000000000",
          "2023-11-17T00:00:00.000000000",
          "2023-11-17T01:00:00.000000000",
          "2023-11-17T02:00:00.000000000",
          "2023-11-17T03:00:00.000000000",
          "2023-11-17T04:00:00.000000000",
          "2023-11-17T05:00:00.000000000",
          "2023-11-17T06:00:00.000000000",
          "2023-11-17T07:00:00.000000000",
          "2023-11-17T08:00:00.000000000",
          "2023-11-17T09:00:00.000000000",
          "2023-11-17T10:00:00.000000000",
          "2023-11-17T11:00:00.000000000",
          "2023-11-17T12:00:00.000000000",
          "2023-11-17T13:00:00.000000000",
          "2023-11-17T14:00:00.000000000",
          "2023-11-17T15:00:00.000000000",
          "2023-11-17T16:00:00.000000000",
          "2023-11-17T17:00:00.000000000",
          "2023-11-17T18:00:00.000000000",
          "2023-11-17T19:00:00.000000000",
          "2023-11-17T20:00:00.000000000",
          "2023-11-17T21:00:00.000000000",
          "2023-11-17T22:00:00.000000000",
          "2023-11-17T23:00:00.000000000",
          "2023-11-18T00:00:00.000000000",
          "2023-11-18T01:00:00.000000000",
          "2023-11-18T02:00:00.000000000",
          "2023-11-18T03:00:00.000000000",
          "2023-11-18T04:00:00.000000000",
          "2023-11-18T05:00:00.000000000",
          "2023-11-18T06:00:00.000000000",
          "2023-11-18T07:00:00.000000000",
          "2023-11-18T08:00:00.000000000",
          "2023-11-18T09:00:00.000000000",
          "2023-11-18T10:00:00.000000000",
          "2023-11-18T11:00:00.000000000",
          "2023-11-18T12:00:00.000000000",
          "2023-11-18T13:00:00.000000000",
          "2023-11-18T14:00:00.000000000",
          "2023-11-18T15:00:00.000000000",
          "2023-11-18T16:00:00.000000000",
          "2023-11-18T17:00:00.000000000",
          "2023-11-18T18:00:00.000000000",
          "2023-11-18T19:00:00.000000000",
          "2023-11-18T20:00:00.000000000",
          "2023-11-18T21:00:00.000000000",
          "2023-11-18T22:00:00.000000000",
          "2023-11-18T23:00:00.000000000",
          "2023-11-19T00:00:00.000000000",
          "2023-11-19T01:00:00.000000000",
          "2023-11-19T02:00:00.000000000",
          "2023-11-19T03:00:00.000000000",
          "2023-11-19T04:00:00.000000000",
          "2023-11-19T05:00:00.000000000",
          "2023-11-19T06:00:00.000000000",
          "2023-11-19T07:00:00.000000000",
          "2023-11-19T08:00:00.000000000",
          "2023-11-19T09:00:00.000000000",
          "2023-11-19T10:00:00.000000000",
          "2023-11-19T11:00:00.000000000",
          "2023-11-19T12:00:00.000000000",
          "2023-11-19T13:00:00.000000000",
          "2023-11-19T14:00:00.000000000",
          "2023-11-19T15:00:00.000000000",
          "2023-11-19T16:00:00.000000000",
          "2023-11-19T17:00:00.000000000",
          "2023-11-19T18:00:00.000000000",
          "2023-11-19T19:00:00.000000000",
          "2023-11-19T20:00:00.000000000",
          "2023-11-19T21:00:00.000000000",
          "2023-11-19T22:00:00.000000000",
          "2023-11-19T23:00:00.000000000",
          "2023-11-20T00:00:00.000000000",
          "2023-11-20T01:00:00.000000000",
          "2023-11-20T02:00:00.000000000",
          "2023-11-20T03:00:00.000000000",
          "2023-11-20T04:00:00.000000000",
          "2023-11-20T05:00:00.000000000",
          "2023-11-20T06:00:00.000000000",
          "2023-11-20T07:00:00.000000000",
          "2023-11-20T08:00:00.000000000",
          "2023-11-20T09:00:00.000000000",
          "2023-11-20T10:00:00.000000000",
          "2023-11-20T11:00:00.000000000",
          "2023-11-20T12:00:00.000000000",
          "2023-11-20T13:00:00.000000000",
          "2023-11-20T14:00:00.000000000",
          "2023-11-20T15:00:00.000000000",
          "2023-11-20T16:00:00.000000000",
          "2023-11-20T17:00:00.000000000",
          "2023-11-20T18:00:00.000000000",
          "2023-11-20T19:00:00.000000000",
          "2023-11-20T20:00:00.000000000",
          "2023-11-20T21:00:00.000000000",
          "2023-11-20T22:00:00.000000000",
          "2023-11-20T23:00:00.000000000",
          "2023-11-21T00:00:00.000000000",
          "2023-11-21T01:00:00.000000000",
          "2023-11-21T02:00:00.000000000",
          "2023-11-21T03:00:00.000000000",
          "2023-11-21T04:00:00.000000000",
          "2023-11-21T05:00:00.000000000",
          "2023-11-21T06:00:00.000000000",
          "2023-11-21T07:00:00.000000000",
          "2023-11-21T08:00:00.000000000",
          "2023-11-21T09:00:00.000000000",
          "2023-11-21T10:00:00.000000000",
          "2023-11-21T11:00:00.000000000",
          "2023-11-21T12:00:00.000000000",
          "2023-11-21T13:00:00.000000000",
          "2023-11-21T14:00:00.000000000",
          "2023-11-21T15:00:00.000000000",
          "2023-11-21T16:00:00.000000000",
          "2023-11-21T17:00:00.000000000",
          "2023-11-21T18:00:00.000000000",
          "2023-11-21T19:00:00.000000000",
          "2023-11-21T20:00:00.000000000",
          "2023-11-21T21:00:00.000000000",
          "2023-11-21T22:00:00.000000000",
          "2023-11-21T23:00:00.000000000",
          "2023-11-22T00:00:00.000000000",
          "2023-11-22T01:00:00.000000000",
          "2023-11-22T02:00:00.000000000",
          "2023-11-22T03:00:00.000000000",
          "2023-11-22T04:00:00.000000000",
          "2023-11-22T05:00:00.000000000",
          "2023-11-22T06:00:00.000000000",
          "2023-11-22T07:00:00.000000000",
          "2023-11-22T08:00:00.000000000",
          "2023-11-22T09:00:00.000000000",
          "2023-11-22T10:00:00.000000000",
          "2023-11-22T11:00:00.000000000",
          "2023-11-22T12:00:00.000000000",
          "2023-11-22T13:00:00.000000000",
          "2023-11-22T14:00:00.000000000",
          "2023-11-22T15:00:00.000000000",
          "2023-11-22T16:00:00.000000000",
          "2023-11-22T17:00:00.000000000",
          "2023-11-22T18:00:00.000000000",
          "2023-11-22T19:00:00.000000000",
          "2023-11-22T20:00:00.000000000",
          "2023-11-22T21:00:00.000000000",
          "2023-11-22T22:00:00.000000000",
          "2023-11-22T23:00:00.000000000",
          "2023-11-23T00:00:00.000000000",
          "2023-11-23T01:00:00.000000000",
          "2023-11-23T02:00:00.000000000",
          "2023-11-23T03:00:00.000000000",
          "2023-11-23T04:00:00.000000000",
          "2023-11-23T05:00:00.000000000",
          "2023-11-23T06:00:00.000000000",
          "2023-11-23T07:00:00.000000000",
          "2023-11-23T08:00:00.000000000",
          "2023-11-23T09:00:00.000000000",
          "2023-11-23T10:00:00.000000000",
          "2023-11-23T11:00:00.000000000",
          "2023-11-23T12:00:00.000000000",
          "2023-11-23T13:00:00.000000000",
          "2023-11-23T14:00:00.000000000",
          "2023-11-23T15:00:00.000000000",
          "2023-11-23T16:00:00.000000000",
          "2023-11-23T17:00:00.000000000",
          "2023-11-23T18:00:00.000000000",
          "2023-11-23T19:00:00.000000000",
          "2023-11-23T20:00:00.000000000",
          "2023-11-23T21:00:00.000000000",
          "2023-11-23T22:00:00.000000000",
          "2023-11-23T23:00:00.000000000",
          "2023-11-24T00:00:00.000000000",
          "2023-11-24T01:00:00.000000000",
          "2023-11-24T02:00:00.000000000",
          "2023-11-24T03:00:00.000000000",
          "2023-11-24T04:00:00.000000000",
          "2023-11-24T05:00:00.000000000",
          "2023-11-24T06:00:00.000000000",
          "2023-11-24T07:00:00.000000000",
          "2023-11-24T08:00:00.000000000",
          "2023-11-24T09:00:00.000000000",
          "2023-11-24T10:00:00.000000000",
          "2023-11-24T11:00:00.000000000",
          "2023-11-24T12:00:00.000000000",
          "2023-11-24T13:00:00.000000000",
          "2023-11-24T14:00:00.000000000",
          "2023-11-24T15:00:00.000000000",
          "2023-11-24T16:00:00.000000000",
          "2023-11-24T17:00:00.000000000",
          "2023-11-24T18:00:00.000000000",
          "2023-11-24T19:00:00.000000000",
          "2023-11-24T20:00:00.000000000",
          "2023-11-24T21:00:00.000000000",
          "2023-11-24T22:00:00.000000000",
          "2023-11-24T23:00:00.000000000",
          "2023-11-25T00:00:00.000000000",
          "2023-11-25T01:00:00.000000000",
          "2023-11-25T02:00:00.000000000",
          "2023-11-25T03:00:00.000000000",
          "2023-11-25T04:00:00.000000000",
          "2023-11-25T05:00:00.000000000",
          "2023-11-25T06:00:00.000000000",
          "2023-11-25T07:00:00.000000000",
          "2023-11-25T08:00:00.000000000",
          "2023-11-25T09:00:00.000000000",
          "2023-11-25T10:00:00.000000000",
          "2023-11-25T11:00:00.000000000",
          "2023-11-25T12:00:00.000000000",
          "2023-11-25T13:00:00.000000000",
          "2023-11-25T14:00:00.000000000",
          "2023-11-25T15:00:00.000000000",
          "2023-11-25T16:00:00.000000000",
          "2023-11-25T17:00:00.000000000",
          "2023-11-25T18:00:00.000000000",
          "2023-11-25T19:00:00.000000000",
          "2023-11-25T20:00:00.000000000",
          "2023-11-25T21:00:00.000000000",
          "2023-11-25T22:00:00.000000000",
          "2023-11-25T23:00:00.000000000",
          "2023-11-26T00:00:00.000000000",
          "2023-11-26T01:00:00.000000000",
          "2023-11-26T02:00:00.000000000",
          "2023-11-26T03:00:00.000000000",
          "2023-11-26T04:00:00.000000000",
          "2023-11-26T05:00:00.000000000",
          "2023-11-26T06:00:00.000000000",
          "2023-11-26T07:00:00.000000000",
          "2023-11-26T08:00:00.000000000",
          "2023-11-26T09:00:00.000000000",
          "2023-11-26T10:00:00.000000000",
          "2023-11-26T11:00:00.000000000",
          "2023-11-26T12:00:00.000000000",
          "2023-11-26T13:00:00.000000000",
          "2023-11-26T14:00:00.000000000",
          "2023-11-26T15:00:00.000000000",
          "2023-11-26T16:00:00.000000000",
          "2023-11-26T17:00:00.000000000",
          "2023-11-26T18:00:00.000000000",
          "2023-11-26T19:00:00.000000000",
          "2023-11-26T20:00:00.000000000",
          "2023-11-26T21:00:00.000000000",
          "2023-11-26T22:00:00.000000000",
          "2023-11-26T23:00:00.000000000",
          "2023-11-27T00:00:00.000000000",
          "2023-11-27T01:00:00.000000000",
          "2023-11-27T02:00:00.000000000",
          "2023-11-27T03:00:00.000000000",
          "2023-11-27T04:00:00.000000000",
          "2023-11-27T05:00:00.000000000",
          "2023-11-27T06:00:00.000000000",
          "2023-11-27T07:00:00.000000000",
          "2023-11-27T08:00:00.000000000",
          "2023-11-27T09:00:00.000000000",
          "2023-11-27T10:00:00.000000000",
          "2023-11-27T11:00:00.000000000",
          "2023-11-27T12:00:00.000000000",
          "2023-11-27T13:00:00.000000000",
          "2023-11-27T14:00:00.000000000",
          "2023-11-27T15:00:00.000000000",
          "2023-11-27T16:00:00.000000000",
          "2023-11-27T17:00:00.000000000",
          "2023-11-27T18:00:00.000000000",
          "2023-11-27T19:00:00.000000000",
          "2023-11-27T20:00:00.000000000",
          "2023-11-27T21:00:00.000000000",
          "2023-11-27T22:00:00.000000000",
          "2023-11-27T23:00:00.000000000",
          "2023-11-28T00:00:00.000000000",
          "2023-11-28T01:00:00.000000000",
          "2023-11-28T02:00:00.000000000",
          "2023-11-28T03:00:00.000000000",
          "2023-11-28T04:00:00.000000000",
          "2023-11-28T05:00:00.000000000",
          "2023-11-28T06:00:00.000000000",
          "2023-11-28T07:00:00.000000000",
          "2023-11-28T08:00:00.000000000",
          "2023-11-28T09:00:00.000000000",
          "2023-11-28T10:00:00.000000000",
          "2023-11-28T11:00:00.000000000",
          "2023-11-28T12:00:00.000000000",
          "2023-11-28T13:00:00.000000000",
          "2023-11-28T14:00:00.000000000",
          "2023-11-28T15:00:00.000000000",
          "2023-11-28T16:00:00.000000000",
          "2023-11-28T17:00:00.000000000",
          "2023-11-28T18:00:00.000000000",
          "2023-11-28T19:00:00.000000000",
          "2023-11-28T20:00:00.000000000",
          "2023-11-28T21:00:00.000000000",
          "2023-11-28T22:00:00.000000000",
          "2023-11-28T23:00:00.000000000",
          "2023-11-29T00:00:00.000000000",
          "2023-11-29T01:00:00.000000000",
          "2023-11-29T02:00:00.000000000",
          "2023-11-29T03:00:00.000000000",
          "2023-11-29T04:00:00.000000000",
          "2023-11-29T05:00:00.000000000",
          "2023-11-29T06:00:00.000000000",
          "2023-11-29T07:00:00.000000000",
          "2023-11-29T08:00:00.000000000",
          "2023-11-29T09:00:00.000000000",
          "2023-11-29T10:00:00.000000000",
          "2023-11-29T11:00:00.000000000",
          "2023-11-29T12:00:00.000000000",
          "2023-11-29T13:00:00.000000000",
          "2023-11-29T14:00:00.000000000",
          "2023-11-29T15:00:00.000000000",
          "2023-11-29T16:00:00.000000000",
          "2023-11-29T17:00:00.000000000",
          "2023-11-29T18:00:00.000000000",
          "2023-11-29T19:00:00.000000000",
          "2023-11-29T20:00:00.000000000",
          "2023-11-29T21:00:00.000000000",
          "2023-11-29T22:00:00.000000000",
          "2023-11-29T23:00:00.000000000",
          "2023-11-30T00:00:00.000000000",
          "2023-11-30T01:00:00.000000000",
          "2023-11-30T02:00:00.000000000",
          "2023-11-30T03:00:00.000000000",
          "2023-11-30T04:00:00.000000000",
          "2023-11-30T05:00:00.000000000",
          "2023-11-30T06:00:00.000000000",
          "2023-11-30T07:00:00.000000000",
          "2023-11-30T08:00:00.000000000",
          "2023-11-30T09:00:00.000000000",
          "2023-11-30T10:00:00.000000000",
          "2023-11-30T11:00:00.000000000",
          "2023-11-30T12:00:00.000000000",
          "2023-11-30T13:00:00.000000000",
          "2023-11-30T14:00:00.000000000",
          "2023-11-30T15:00:00.000000000",
          "2023-11-30T16:00:00.000000000",
          "2023-11-30T17:00:00.000000000",
          "2023-11-30T18:00:00.000000000",
          "2023-11-30T19:00:00.000000000",
          "2023-11-30T20:00:00.000000000",
          "2023-11-30T21:00:00.000000000",
          "2023-11-30T22:00:00.000000000",
          "2023-11-30T23:00:00.000000000",
          "2023-12-01T00:00:00.000000000",
          "2023-12-01T01:00:00.000000000",
          "2023-12-01T02:00:00.000000000",
          "2023-12-01T03:00:00.000000000",
          "2023-12-01T04:00:00.000000000",
          "2023-12-01T05:00:00.000000000",
          "2023-12-01T06:00:00.000000000",
          "2023-12-01T07:00:00.000000000",
          "2023-12-01T08:00:00.000000000",
          "2023-12-01T09:00:00.000000000",
          "2023-12-01T10:00:00.000000000",
          "2023-12-01T11:00:00.000000000",
          "2023-12-01T12:00:00.000000000",
          "2023-12-01T13:00:00.000000000",
          "2023-12-01T14:00:00.000000000",
          "2023-12-01T15:00:00.000000000",
          "2023-12-01T16:00:00.000000000",
          "2023-12-01T17:00:00.000000000",
          "2023-12-01T18:00:00.000000000",
          "2023-12-01T19:00:00.000000000",
          "2023-12-01T20:00:00.000000000",
          "2023-12-01T21:00:00.000000000",
          "2023-12-01T22:00:00.000000000",
          "2023-12-01T23:00:00.000000000",
          "2023-12-02T00:00:00.000000000",
          "2023-12-02T01:00:00.000000000",
          "2023-12-02T02:00:00.000000000",
          "2023-12-02T03:00:00.000000000",
          "2023-12-02T04:00:00.000000000",
          "2023-12-02T05:00:00.000000000",
          "2023-12-02T06:00:00.000000000",
          "2023-12-02T07:00:00.000000000",
          "2023-12-02T08:00:00.000000000",
          "2023-12-02T09:00:00.000000000",
          "2023-12-02T10:00:00.000000000",
          "2023-12-02T11:00:00.000000000",
          "2023-12-02T12:00:00.000000000",
          "2023-12-02T13:00:00.000000000",
          "2023-12-02T14:00:00.000000000",
          "2023-12-02T15:00:00.000000000",
          "2023-12-02T16:00:00.000000000",
          "2023-12-02T17:00:00.000000000",
          "2023-12-02T18:00:00.000000000",
          "2023-12-02T19:00:00.000000000",
          "2023-12-02T20:00:00.000000000",
          "2023-12-02T21:00:00.000000000",
          "2023-12-02T22:00:00.000000000",
          "2023-12-02T23:00:00.000000000",
          "2023-12-03T00:00:00.000000000",
          "2023-12-03T01:00:00.000000000",
          "2023-12-03T02:00:00.000000000",
          "2023-12-03T03:00:00.000000000",
          "2023-12-03T04:00:00.000000000",
          "2023-12-03T05:00:00.000000000",
          "2023-12-03T06:00:00.000000000",
          "2023-12-03T07:00:00.000000000",
          "2023-12-03T08:00:00.000000000",
          "2023-12-03T09:00:00.000000000",
          "2023-12-03T10:00:00.000000000",
          "2023-12-03T11:00:00.000000000",
          "2023-12-03T12:00:00.000000000",
          "2023-12-03T13:00:00.000000000",
          "2023-12-03T14:00:00.000000000",
          "2023-12-03T15:00:00.000000000",
          "2023-12-03T16:00:00.000000000",
          "2023-12-03T17:00:00.000000000",
          "2023-12-03T18:00:00.000000000",
          "2023-12-03T19:00:00.000000000",
          "2023-12-03T20:00:00.000000000",
          "2023-12-03T21:00:00.000000000",
          "2023-12-03T22:00:00.000000000",
          "2023-12-03T23:00:00.000000000",
          "2023-12-04T00:00:00.000000000",
          "2023-12-04T01:00:00.000000000",
          "2023-12-04T02:00:00.000000000",
          "2023-12-04T03:00:00.000000000",
          "2023-12-04T04:00:00.000000000",
          "2023-12-04T05:00:00.000000000",
          "2023-12-04T06:00:00.000000000",
          "2023-12-04T07:00:00.000000000",
          "2023-12-04T08:00:00.000000000",
          "2023-12-04T09:00:00.000000000",
          "2023-12-04T10:00:00.000000000",
          "2023-12-04T11:00:00.000000000",
          "2023-12-04T12:00:00.000000000",
          "2023-12-04T13:00:00.000000000",
          "2023-12-04T14:00:00.000000000",
          "2023-12-04T15:00:00.000000000",
          "2023-12-04T16:00:00.000000000",
          "2023-12-04T17:00:00.000000000",
          "2023-12-04T18:00:00.000000000",
          "2023-12-04T19:00:00.000000000",
          "2023-12-04T20:00:00.000000000",
          "2023-12-04T21:00:00.000000000",
          "2023-12-04T22:00:00.000000000",
          "2023-12-04T23:00:00.000000000",
          "2023-12-05T00:00:00.000000000",
          "2023-12-05T01:00:00.000000000",
          "2023-12-05T02:00:00.000000000",
          "2023-12-05T03:00:00.000000000",
          "2023-12-05T04:00:00.000000000",
          "2023-12-05T05:00:00.000000000",
          "2023-12-05T06:00:00.000000000",
          "2023-12-05T07:00:00.000000000",
          "2023-12-05T08:00:00.000000000",
          "2023-12-05T09:00:00.000000000",
          "2023-12-05T10:00:00.000000000",
          "2023-12-05T11:00:00.000000000",
          "2023-12-05T12:00:00.000000000",
          "2023-12-05T13:00:00.000000000",
          "2023-12-05T14:00:00.000000000",
          "2023-12-05T15:00:00.000000000",
          "2023-12-05T16:00:00.000000000",
          "2023-12-05T17:00:00.000000000",
          "2023-12-05T18:00:00.000000000",
          "2023-12-05T19:00:00.000000000",
          "2023-12-05T20:00:00.000000000",
          "2023-12-05T21:00:00.000000000",
          "2023-12-05T22:00:00.000000000",
          "2023-12-05T23:00:00.000000000",
          "2023-12-06T00:00:00.000000000",
          "2023-12-06T01:00:00.000000000",
          "2023-12-06T02:00:00.000000000",
          "2023-12-06T03:00:00.000000000",
          "2023-12-06T04:00:00.000000000",
          "2023-12-06T05:00:00.000000000",
          "2023-12-06T06:00:00.000000000",
          "2023-12-06T07:00:00.000000000",
          "2023-12-06T08:00:00.000000000",
          "2023-12-06T09:00:00.000000000",
          "2023-12-06T10:00:00.000000000",
          "2023-12-06T11:00:00.000000000",
          "2023-12-06T12:00:00.000000000",
          "2023-12-06T13:00:00.000000000",
          "2023-12-06T14:00:00.000000000",
          "2023-12-06T15:00:00.000000000",
          "2023-12-06T16:00:00.000000000",
          "2023-12-06T17:00:00.000000000",
          "2023-12-06T18:00:00.000000000",
          "2023-12-06T19:00:00.000000000",
          "2023-12-06T20:00:00.000000000",
          "2023-12-06T21:00:00.000000000",
          "2023-12-06T22:00:00.000000000",
          "2023-12-06T23:00:00.000000000",
          "2023-12-07T00:00:00.000000000",
          "2023-12-07T01:00:00.000000000",
          "2023-12-07T02:00:00.000000000",
          "2023-12-07T03:00:00.000000000",
          "2023-12-07T04:00:00.000000000",
          "2023-12-07T05:00:00.000000000",
          "2023-12-07T06:00:00.000000000",
          "2023-12-07T07:00:00.000000000",
          "2023-12-07T08:00:00.000000000",
          "2023-12-07T09:00:00.000000000",
          "2023-12-07T10:00:00.000000000",
          "2023-12-07T11:00:00.000000000",
          "2023-12-07T12:00:00.000000000",
          "2023-12-07T13:00:00.000000000",
          "2023-12-07T14:00:00.000000000",
          "2023-12-07T15:00:00.000000000",
          "2023-12-07T16:00:00.000000000",
          "2023-12-07T17:00:00.000000000",
          "2023-12-07T18:00:00.000000000",
          "2023-12-07T19:00:00.000000000",
          "2023-12-07T20:00:00.000000000",
          "2023-12-07T21:00:00.000000000",
          "2023-12-07T22:00:00.000000000",
          "2023-12-07T23:00:00.000000000",
          "2023-12-08T00:00:00.000000000",
          "2023-12-08T01:00:00.000000000",
          "2023-12-08T02:00:00.000000000",
          "2023-12-08T03:00:00.000000000",
          "2023-12-08T04:00:00.000000000",
          "2023-12-08T05:00:00.000000000",
          "2023-12-08T06:00:00.000000000",
          "2023-12-08T07:00:00.000000000",
          "2023-12-08T08:00:00.000000000",
          "2023-12-08T09:00:00.000000000",
          "2023-12-08T10:00:00.000000000",
          "2023-12-08T11:00:00.000000000"
         ],
         "xaxis": "x",
         "y": {
          "bdata": "IisiJCIrJyoYDgcKBQcGBQAAAQEDCRUfIDAsKR4nHxcTDwMGCgcCAwMAAQACBgYaHCUhGhchIiMRDwYEAwAAAAAAAQYIIyUOFRsgFB4nPTseGwoGBQAAAAAAAQcUJCEZGBomHRcuLkMmGggEBAEAAAAAAQQOLCoQGyIYJCcnM0MjEwoJAwQCAAAAAgkKJCUUHRgrICopMUcpGg0KAgEBAAABAgcUIiAaFhsuKy8wOTokHg8EAwMEAgMBAAACERMWFCceHR4gHxkREQYJBgIABgEAAAABDQwlIhcXJB8nGxgZEAQDAAABAAAAAQgQExcRHBcgGB0iKSseGAUFAwEAAAAAAQoKGBwSEhoVGwgRFRIEBwEAAQEBAAABAAEFDRIRHhwnJCoeJhkUDwcDBAMAAAACAAEAAgcFBwQEBgUGAQACAwABAQAAAAAAAAEABQsQDBARGB0YERALBAUDAAECAAABAQECAgYNGBUXFxwSDw4LCAUBAgMCAgEAAAABBgoNEx0gIgwRCwcJCQEAAAICAwAAAwMSHA8XFScfHCMtNTIpHQwHAgMAAAAAAwkMIh0RCxIUGhsWJTEpFQ4EAgAAAAAAAwYPHRoOEhsWEhglJS8oFAkGAwEAAAAAAQsMGRkaGiEjIyApNC4mEgoIBQIAAQAAAwcLHhUUFxITGB0QCgsJBAQDAQUDAQAAAwIAEhAXJygvIS4vHSUOFgoIBggFAwIAAgAAAwAECg0QDAwOEx4OBAQFBAIAAAAAAQQHJRkXFicjGCIiLTQoFAQBAwIBAAAAAAoKIBgRFBgYGiEbLDQiFw0FBAAAAAAAAAYMGhcXGBwRGRceICwiEQwDAwAAAQAAAAgLFxYODxAYHB8dJS8eDgwJBAIDAAABAQQHHRENDg==",
          "dtype": "i1"
         },
         "yaxis": "y"
        },
        {
         "line": {
          "color": "green"
         },
         "marker": {
          "size": 10
         },
         "mode": "markers",
         "name": "Actual Value",
         "type": "scatter",
         "x": [
          "2023-12-08T11:00:00.000000000"
         ],
         "y": [
          14
         ]
        },
        {
         "line": {
          "color": "red"
         },
         "marker": {
          "size": 15,
          "symbol": "x"
         },
         "mode": "markers",
         "name": "Prediction",
         "type": "scatter",
         "x": [
          "2023-12-08T11:00:00.000000000"
         ],
         "y": [
          22.75
         ]
        }
       ],
       "layout": {
        "legend": {
         "tracegroupgap": 0
        },
        "template": {
         "data": {
          "bar": [
           {
            "error_x": {
             "color": "#2a3f5f"
            },
            "error_y": {
             "color": "#2a3f5f"
            },
            "marker": {
             "line": {
              "color": "white",
              "width": 0.5
             },
             "pattern": {
              "fillmode": "overlay",
              "size": 10,
              "solidity": 0.2
             }
            },
            "type": "bar"
           }
          ],
          "barpolar": [
           {
            "marker": {
             "line": {
              "color": "white",
              "width": 0.5
             },
             "pattern": {
              "fillmode": "overlay",
              "size": 10,
              "solidity": 0.2
             }
            },
            "type": "barpolar"
           }
          ],
          "carpet": [
           {
            "aaxis": {
             "endlinecolor": "#2a3f5f",
             "gridcolor": "#C8D4E3",
             "linecolor": "#C8D4E3",
             "minorgridcolor": "#C8D4E3",
             "startlinecolor": "#2a3f5f"
            },
            "baxis": {
             "endlinecolor": "#2a3f5f",
             "gridcolor": "#C8D4E3",
             "linecolor": "#C8D4E3",
             "minorgridcolor": "#C8D4E3",
             "startlinecolor": "#2a3f5f"
            },
            "type": "carpet"
           }
          ],
          "choropleth": [
           {
            "colorbar": {
             "outlinewidth": 0,
             "ticks": ""
            },
            "type": "choropleth"
           }
          ],
          "contour": [
           {
            "colorbar": {
             "outlinewidth": 0,
             "ticks": ""
            },
            "colorscale": [
             [
              0,
              "#0d0887"
             ],
             [
              0.1111111111111111,
              "#46039f"
             ],
             [
              0.2222222222222222,
              "#7201a8"
             ],
             [
              0.3333333333333333,
              "#9c179e"
             ],
             [
              0.4444444444444444,
              "#bd3786"
             ],
             [
              0.5555555555555556,
              "#d8576b"
             ],
             [
              0.6666666666666666,
              "#ed7953"
             ],
             [
              0.7777777777777778,
              "#fb9f3a"
             ],
             [
              0.8888888888888888,
              "#fdca26"
             ],
             [
              1,
              "#f0f921"
             ]
            ],
            "type": "contour"
           }
          ],
          "contourcarpet": [
           {
            "colorbar": {
             "outlinewidth": 0,
             "ticks": ""
            },
            "type": "contourcarpet"
           }
          ],
          "heatmap": [
           {
            "colorbar": {
             "outlinewidth": 0,
             "ticks": ""
            },
            "colorscale": [
             [
              0,
              "#0d0887"
             ],
             [
              0.1111111111111111,
              "#46039f"
             ],
             [
              0.2222222222222222,
              "#7201a8"
             ],
             [
              0.3333333333333333,
              "#9c179e"
             ],
             [
              0.4444444444444444,
              "#bd3786"
             ],
             [
              0.5555555555555556,
              "#d8576b"
             ],
             [
              0.6666666666666666,
              "#ed7953"
             ],
             [
              0.7777777777777778,
              "#fb9f3a"
             ],
             [
              0.8888888888888888,
              "#fdca26"
             ],
             [
              1,
              "#f0f921"
             ]
            ],
            "type": "heatmap"
           }
          ],
          "histogram": [
           {
            "marker": {
             "pattern": {
              "fillmode": "overlay",
              "size": 10,
              "solidity": 0.2
             }
            },
            "type": "histogram"
           }
          ],
          "histogram2d": [
           {
            "colorbar": {
             "outlinewidth": 0,
             "ticks": ""
            },
            "colorscale": [
             [
              0,
              "#0d0887"
             ],
             [
              0.1111111111111111,
              "#46039f"
             ],
             [
              0.2222222222222222,
              "#7201a8"
             ],
             [
              0.3333333333333333,
              "#9c179e"
             ],
             [
              0.4444444444444444,
              "#bd3786"
             ],
             [
              0.5555555555555556,
              "#d8576b"
             ],
             [
              0.6666666666666666,
              "#ed7953"
             ],
             [
              0.7777777777777778,
              "#fb9f3a"
             ],
             [
              0.8888888888888888,
              "#fdca26"
             ],
             [
              1,
              "#f0f921"
             ]
            ],
            "type": "histogram2d"
           }
          ],
          "histogram2dcontour": [
           {
            "colorbar": {
             "outlinewidth": 0,
             "ticks": ""
            },
            "colorscale": [
             [
              0,
              "#0d0887"
             ],
             [
              0.1111111111111111,
              "#46039f"
             ],
             [
              0.2222222222222222,
              "#7201a8"
             ],
             [
              0.3333333333333333,
              "#9c179e"
             ],
             [
              0.4444444444444444,
              "#bd3786"
             ],
             [
              0.5555555555555556,
              "#d8576b"
             ],
             [
              0.6666666666666666,
              "#ed7953"
             ],
             [
              0.7777777777777778,
              "#fb9f3a"
             ],
             [
              0.8888888888888888,
              "#fdca26"
             ],
             [
              1,
              "#f0f921"
             ]
            ],
            "type": "histogram2dcontour"
           }
          ],
          "mesh3d": [
           {
            "colorbar": {
             "outlinewidth": 0,
             "ticks": ""
            },
            "type": "mesh3d"
           }
          ],
          "parcoords": [
           {
            "line": {
             "colorbar": {
              "outlinewidth": 0,
              "ticks": ""
             }
            },
            "type": "parcoords"
           }
          ],
          "pie": [
           {
            "automargin": true,
            "type": "pie"
           }
          ],
          "scatter": [
           {
            "fillpattern": {
             "fillmode": "overlay",
             "size": 10,
             "solidity": 0.2
            },
            "type": "scatter"
           }
          ],
          "scatter3d": [
           {
            "line": {
             "colorbar": {
              "outlinewidth": 0,
              "ticks": ""
             }
            },
            "marker": {
             "colorbar": {
              "outlinewidth": 0,
              "ticks": ""
             }
            },
            "type": "scatter3d"
           }
          ],
          "scattercarpet": [
           {
            "marker": {
             "colorbar": {
              "outlinewidth": 0,
              "ticks": ""
             }
            },
            "type": "scattercarpet"
           }
          ],
          "scattergeo": [
           {
            "marker": {
             "colorbar": {
              "outlinewidth": 0,
              "ticks": ""
             }
            },
            "type": "scattergeo"
           }
          ],
          "scattergl": [
           {
            "marker": {
             "colorbar": {
              "outlinewidth": 0,
              "ticks": ""
             }
            },
            "type": "scattergl"
           }
          ],
          "scattermap": [
           {
            "marker": {
             "colorbar": {
              "outlinewidth": 0,
              "ticks": ""
             }
            },
            "type": "scattermap"
           }
          ],
          "scattermapbox": [
           {
            "marker": {
             "colorbar": {
              "outlinewidth": 0,
              "ticks": ""
             }
            },
            "type": "scattermapbox"
           }
          ],
          "scatterpolar": [
           {
            "marker": {
             "colorbar": {
              "outlinewidth": 0,
              "ticks": ""
             }
            },
            "type": "scatterpolar"
           }
          ],
          "scatterpolargl": [
           {
            "marker": {
             "colorbar": {
              "outlinewidth": 0,
              "ticks": ""
             }
            },
            "type": "scatterpolargl"
           }
          ],
          "scatterternary": [
           {
            "marker": {
             "colorbar": {
              "outlinewidth": 0,
              "ticks": ""
             }
            },
            "type": "scatterternary"
           }
          ],
          "surface": [
           {
            "colorbar": {
             "outlinewidth": 0,
             "ticks": ""
            },
            "colorscale": [
             [
              0,
              "#0d0887"
             ],
             [
              0.1111111111111111,
              "#46039f"
             ],
             [
              0.2222222222222222,
              "#7201a8"
             ],
             [
              0.3333333333333333,
              "#9c179e"
             ],
             [
              0.4444444444444444,
              "#bd3786"
             ],
             [
              0.5555555555555556,
              "#d8576b"
             ],
             [
              0.6666666666666666,
              "#ed7953"
             ],
             [
              0.7777777777777778,
              "#fb9f3a"
             ],
             [
              0.8888888888888888,
              "#fdca26"
             ],
             [
              1,
              "#f0f921"
             ]
            ],
            "type": "surface"
           }
          ],
          "table": [
           {
            "cells": {
             "fill": {
              "color": "#EBF0F8"
             },
             "line": {
              "color": "white"
             }
            },
            "header": {
             "fill": {
              "color": "#C8D4E3"
             },
             "line": {
              "color": "white"
             }
            },
            "type": "table"
           }
          ]
         },
         "layout": {
          "annotationdefaults": {
           "arrowcolor": "#2a3f5f",
           "arrowhead": 0,
           "arrowwidth": 1
          },
          "autotypenumbers": "strict",
          "coloraxis": {
           "colorbar": {
            "outlinewidth": 0,
            "ticks": ""
           }
          },
          "colorscale": {
           "diverging": [
            [
             0,
             "#8e0152"
            ],
            [
             0.1,
             "#c51b7d"
            ],
            [
             0.2,
             "#de77ae"
            ],
            [
             0.3,
             "#f1b6da"
            ],
            [
             0.4,
             "#fde0ef"
            ],
            [
             0.5,
             "#f7f7f7"
            ],
            [
             0.6,
             "#e6f5d0"
            ],
            [
             0.7,
             "#b8e186"
            ],
            [
             0.8,
             "#7fbc41"
            ],
            [
             0.9,
             "#4d9221"
            ],
            [
             1,
             "#276419"
            ]
           ],
           "sequential": [
            [
             0,
             "#0d0887"
            ],
            [
             0.1111111111111111,
             "#46039f"
            ],
            [
             0.2222222222222222,
             "#7201a8"
            ],
            [
             0.3333333333333333,
             "#9c179e"
            ],
            [
             0.4444444444444444,
             "#bd3786"
            ],
            [
             0.5555555555555556,
             "#d8576b"
            ],
            [
             0.6666666666666666,
             "#ed7953"
            ],
            [
             0.7777777777777778,
             "#fb9f3a"
            ],
            [
             0.8888888888888888,
             "#fdca26"
            ],
            [
             1,
             "#f0f921"
            ]
           ],
           "sequentialminus": [
            [
             0,
             "#0d0887"
            ],
            [
             0.1111111111111111,
             "#46039f"
            ],
            [
             0.2222222222222222,
             "#7201a8"
            ],
            [
             0.3333333333333333,
             "#9c179e"
            ],
            [
             0.4444444444444444,
             "#bd3786"
            ],
            [
             0.5555555555555556,
             "#d8576b"
            ],
            [
             0.6666666666666666,
             "#ed7953"
            ],
            [
             0.7777777777777778,
             "#fb9f3a"
            ],
            [
             0.8888888888888888,
             "#fdca26"
            ],
            [
             1,
             "#f0f921"
            ]
           ]
          },
          "colorway": [
           "#636efa",
           "#EF553B",
           "#00cc96",
           "#ab63fa",
           "#FFA15A",
           "#19d3f3",
           "#FF6692",
           "#B6E880",
           "#FF97FF",
           "#FECB52"
          ],
          "font": {
           "color": "#2a3f5f"
          },
          "geo": {
           "bgcolor": "white",
           "lakecolor": "white",
           "landcolor": "white",
           "showlakes": true,
           "showland": true,
           "subunitcolor": "#C8D4E3"
          },
          "hoverlabel": {
           "align": "left"
          },
          "hovermode": "closest",
          "mapbox": {
           "style": "light"
          },
          "paper_bgcolor": "white",
          "plot_bgcolor": "white",
          "polar": {
           "angularaxis": {
            "gridcolor": "#EBF0F8",
            "linecolor": "#EBF0F8",
            "ticks": ""
           },
           "bgcolor": "white",
           "radialaxis": {
            "gridcolor": "#EBF0F8",
            "linecolor": "#EBF0F8",
            "ticks": ""
           }
          },
          "scene": {
           "xaxis": {
            "backgroundcolor": "white",
            "gridcolor": "#DFE8F3",
            "gridwidth": 2,
            "linecolor": "#EBF0F8",
            "showbackground": true,
            "ticks": "",
            "zerolinecolor": "#EBF0F8"
           },
           "yaxis": {
            "backgroundcolor": "white",
            "gridcolor": "#DFE8F3",
            "gridwidth": 2,
            "linecolor": "#EBF0F8",
            "showbackground": true,
            "ticks": "",
            "zerolinecolor": "#EBF0F8"
           },
           "zaxis": {
            "backgroundcolor": "white",
            "gridcolor": "#DFE8F3",
            "gridwidth": 2,
            "linecolor": "#EBF0F8",
            "showbackground": true,
            "ticks": "",
            "zerolinecolor": "#EBF0F8"
           }
          },
          "shapedefaults": {
           "line": {
            "color": "#2a3f5f"
           }
          },
          "ternary": {
           "aaxis": {
            "gridcolor": "#DFE8F3",
            "linecolor": "#A2B1C6",
            "ticks": ""
           },
           "baxis": {
            "gridcolor": "#DFE8F3",
            "linecolor": "#A2B1C6",
            "ticks": ""
           },
           "bgcolor": "white",
           "caxis": {
            "gridcolor": "#DFE8F3",
            "linecolor": "#A2B1C6",
            "ticks": ""
           }
          },
          "title": {
           "x": 0.05
          },
          "xaxis": {
           "automargin": true,
           "gridcolor": "#EBF0F8",
           "linecolor": "#EBF0F8",
           "ticks": "",
           "title": {
            "standoff": 15
           },
           "zerolinecolor": "#EBF0F8",
           "zerolinewidth": 2
          },
          "yaxis": {
           "automargin": true,
           "gridcolor": "#EBF0F8",
           "linecolor": "#EBF0F8",
           "ticks": "",
           "title": {
            "standoff": 15
           },
           "zerolinecolor": "#EBF0F8",
           "zerolinewidth": 2
          }
         }
        },
        "title": {
         "text": "Pickup Hour: 2023-12-08 11:00:00, Location ID: 6140.05"
        },
        "xaxis": {
         "anchor": "y",
         "domain": [
          0,
          1
         ],
         "title": {
          "text": "Time"
         }
        },
        "yaxis": {
         "anchor": "x",
         "domain": [
          0,
          1
         ],
         "title": {
          "text": "Ride Counts"
         }
        }
       }
      }
     },
     "metadata": {},
     "output_type": "display_data"
    }
   ],
   "source": [
    "plot_aggregated_time_series(X_test, y_test, row_id=220, predictions=predictions)\n"
   ]
  },
  {
   "cell_type": "code",
   "execution_count": null,
   "id": "9aa7df16",
   "metadata": {},
   "outputs": [],
   "source": []
  }
 ],
 "metadata": {
  "kernelspec": {
   "display_name": "venv",
   "language": "python",
   "name": "python3"
  },
  "language_info": {
   "codemirror_mode": {
    "name": "ipython",
    "version": 3
   },
   "file_extension": ".py",
   "mimetype": "text/x-python",
   "name": "python",
   "nbconvert_exporter": "python",
   "pygments_lexer": "ipython3",
   "version": "3.11.11"
  }
 },
 "nbformat": 4,
 "nbformat_minor": 5
}
