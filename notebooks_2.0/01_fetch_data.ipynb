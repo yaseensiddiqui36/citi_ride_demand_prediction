{
 "cells": [
  {
   "cell_type": "code",
   "execution_count": 1,
   "id": "b864df1f-3b61-4d10-b63e-a0e0bb7a2acd",
   "metadata": {},
   "outputs": [],
   "source": [
    "from pathlib import Path\n",
    "import requests\n",
    "import pandas as pd\n",
    "import zipfile\n",
    "import io\n",
    "\n",
    "def fetch_raw_data(year: int, month: int) -> str:\n",
    "    url = f\"https://s3.amazonaws.com/tripdata/JC-{year}{month:02}-citibike-tripdata.csv.zip\"\n",
    "    response = requests.get(url)\n",
    "    if response.status_code == 200:\n",
    "        zip_bytes = io.BytesIO(response.content)\n",
    "        with zipfile.ZipFile(zip_bytes, 'r') as zip_ref:\n",
    "            csv_name = zip_ref.namelist()[0]  # There should be only one file inside\n",
    "            df = pd.read_csv(zip_ref.open(csv_name))\n",
    "            path = Path(\"..\") / \"data\" / \"raw\" / f\"rides_{year}_{month:02}.parquet\"\n",
    "            path.parent.mkdir(parents=True, exist_ok=True)\n",
    "            df.to_parquet(path, index=False)\n",
    "            print(f\"Saved: {path}\")\n",
    "            return str(path)\n",
    "    else:\n",
    "        raise Exception(f\"Failed to fetch data from {url}\")\n"
   ]
  },
  {
   "cell_type": "code",
   "execution_count": 2,
   "id": "ea3d5f04-c44f-4f2f-9d32-64508e212d29",
   "metadata": {},
   "outputs": [
    {
     "name": "stdout",
     "output_type": "stream",
     "text": [
      "Saved: ..\\data\\raw\\rides_2023_01.parquet\n"
     ]
    },
    {
     "data": {
      "text/plain": [
       "'..\\\\data\\\\raw\\\\rides_2023_01.parquet'"
      ]
     },
     "execution_count": 2,
     "metadata": {},
     "output_type": "execute_result"
    }
   ],
   "source": [
    "fetch_raw_data(2023, 1)"
   ]
  },
  {
   "cell_type": "code",
   "execution_count": null,
   "id": "f42aaf1a",
   "metadata": {},
   "outputs": [],
   "source": []
  }
 ],
 "metadata": {
  "kernelspec": {
   "display_name": "venv",
   "language": "python",
   "name": "python3"
  },
  "language_info": {
   "codemirror_mode": {
    "name": "ipython",
    "version": 3
   },
   "file_extension": ".py",
   "mimetype": "text/x-python",
   "name": "python",
   "nbconvert_exporter": "python",
   "pygments_lexer": "ipython3",
   "version": "3.11.11"
  }
 },
 "nbformat": 4,
 "nbformat_minor": 5
}
